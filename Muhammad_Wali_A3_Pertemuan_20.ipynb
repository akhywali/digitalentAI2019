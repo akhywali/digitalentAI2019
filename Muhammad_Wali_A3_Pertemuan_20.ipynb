{
  "nbformat": 4,
  "nbformat_minor": 0,
  "metadata": {
    "colab": {
      "name": "Muhammad Wali - A3- Pertemuan 20.ipynb",
      "version": "0.3.2",
      "provenance": [],
      "collapsed_sections": []
    },
    "kernelspec": {
      "name": "python3",
      "display_name": "Python 3"
    },
    "accelerator": "GPU"
  },
  "cells": [
    {
      "cell_type": "markdown",
      "metadata": {
        "id": "SAoOQ3iWfcEs",
        "colab_type": "text"
      },
      "source": [
        "Muhammad Wali - **A3**"
      ]
    },
    {
      "cell_type": "code",
      "metadata": {
        "id": "2Ez4mGIRTmcd",
        "colab_type": "code",
        "colab": {}
      },
      "source": [
        "import tensorflow as tf\n",
        "import tensorflow.contrib.eager as tfe\n",
        "import numpy as np"
      ],
      "execution_count": 0,
      "outputs": []
    },
    {
      "cell_type": "code",
      "metadata": {
        "id": "LTBT7MypcsKV",
        "colab_type": "code",
        "outputId": "bad22a73-ff7d-492f-88e0-447a806eb35a",
        "colab": {
          "base_uri": "https://localhost:8080/",
          "height": 51
        }
      },
      "source": [
        "cifar = tf.keras.datasets.cifar10\n",
        "\n",
        "(train_images, train_labels), (test_images, test_labels) = cifar.load_data()\n",
        "cifar_labels = ['airplane', 'automobile', 'bird', 'cat', 'deer', 'dog', 'frog', 'horse', 'ship', 'truck']"
      ],
      "execution_count": 2,
      "outputs": [
        {
          "output_type": "stream",
          "text": [
            "Downloading data from https://www.cs.toronto.edu/~kriz/cifar-10-python.tar.gz\n",
            "170500096/170498071 [==============================] - 11s 0us/step\n"
          ],
          "name": "stdout"
        }
      ]
    },
    {
      "cell_type": "code",
      "metadata": {
        "id": "KQ7iyPuWUAss",
        "colab_type": "code",
        "colab": {}
      },
      "source": [
        "#Define model\n",
        "model = tf.keras.models.Sequential()\n",
        "model.add(tf.keras.layers.Conv2D(filters=128,\n",
        "                                kernel_size=(3,3),\n",
        "                                activation=tf.nn.relu,\n",
        "                                input_shape=(32,32,3),\n",
        "                                padding='same'))\n",
        "model.add(tf.keras.layers.Conv2D(filters=128,\n",
        "                                kernel_size=(3,3),\n",
        "                                activation=tf.nn.relu,\n",
        "                                ))\n",
        "\n",
        "model.add(tf.keras.layers.MaxPooling2D(pool_size=(2,2)))\n",
        "model.add(tf.keras.layers.Dropout(0.25))\n",
        "\n",
        "\n",
        "model.add(tf.keras.layers.Conv2D(filters=64,\n",
        "                                kernel_size=(3,3),\n",
        "                                activation=tf.nn.relu,\n",
        "                                ))\n",
        "model.add(tf.keras.layers.Conv2D(filters=64,\n",
        "                                kernel_size=(3,3),\n",
        "                                activation=tf.nn.relu,\n",
        "                                ))\n",
        "model.add(tf.keras.layers.MaxPooling2D(pool_size=(2,2)))\n",
        "model.add(tf.keras.layers.Dropout(0.3))\n",
        "\n",
        "\n",
        "\n",
        "model.add(tf.keras.layers.Conv2D(filters=32,\n",
        "                                kernel_size=(3,3),\n",
        "                                activation=tf.nn.relu,\n",
        "                                ))\n",
        "model.add(tf.keras.layers.Conv2D(filters=32,\n",
        "                                kernel_size=(3,3),\n",
        "                                activation=tf.nn.relu,\n",
        "                                ))\n",
        "\n",
        "#Create pooling layer\n",
        "#model.add(tf.keras.layers.MaxPooling2D(pool_size=(3,3),))\n",
        "\n",
        "model.add(tf.keras.layers.Dropout(0.4))\n",
        "\n",
        "#creating layer Flatten\n",
        "model.add(tf.keras.layers.Flatten())\n",
        "\n",
        "\n",
        "#creating layer Dense\n",
        "\n",
        "model.add(tf.keras.layers.Dense(10, activation=tf.nn.softmax))\n"
      ],
      "execution_count": 0,
      "outputs": []
    },
    {
      "cell_type": "code",
      "metadata": {
        "id": "YU2wVcgoUQBi",
        "colab_type": "code",
        "colab": {}
      },
      "source": [
        "model.compile(optimizer=tf.train.AdamOptimizer(),\n",
        "             loss=tf.keras.losses.sparse_categorical_crossentropy,\n",
        "             metrics=['accuracy'])"
      ],
      "execution_count": 0,
      "outputs": []
    },
    {
      "cell_type": "code",
      "metadata": {
        "id": "nID-3JuyY8a3",
        "colab_type": "code",
        "colab": {
          "base_uri": "https://localhost:8080/",
          "height": 391
        },
        "outputId": "da1f008a-d129-429c-e51e-a4b03c083a8c"
      },
      "source": [
        "model.fit(x=train_images,\n",
        "         y=train_labels,\n",
        "         batch_size=256,\n",
        "         epochs=10,\n",
        "         validation_data=(test_images, test_labels))\n"
      ],
      "execution_count": 37,
      "outputs": [
        {
          "output_type": "stream",
          "text": [
            "Train on 50000 samples, validate on 10000 samples\n",
            "Epoch 1/10\n",
            "50000/50000 [==============================] - 23s 462us/sample - loss: 0.5814 - acc: 0.8046 - val_loss: 0.7343 - val_acc: 0.7729\n",
            "Epoch 2/10\n",
            "50000/50000 [==============================] - 23s 460us/sample - loss: 0.5943 - acc: 0.8002 - val_loss: 0.7111 - val_acc: 0.7828\n",
            "Epoch 3/10\n",
            "50000/50000 [==============================] - 23s 459us/sample - loss: 0.5847 - acc: 0.8034 - val_loss: 0.7110 - val_acc: 0.7828\n",
            "Epoch 4/10\n",
            "50000/50000 [==============================] - 23s 459us/sample - loss: 0.5689 - acc: 0.8094 - val_loss: 0.6875 - val_acc: 0.7842\n",
            "Epoch 5/10\n",
            "50000/50000 [==============================] - 23s 459us/sample - loss: 0.5647 - acc: 0.8091 - val_loss: 0.7022 - val_acc: 0.7812\n",
            "Epoch 6/10\n",
            "50000/50000 [==============================] - 23s 460us/sample - loss: 0.5648 - acc: 0.8112 - val_loss: 0.7242 - val_acc: 0.7795\n",
            "Epoch 7/10\n",
            "50000/50000 [==============================] - 23s 460us/sample - loss: 0.5553 - acc: 0.8138 - val_loss: 0.6894 - val_acc: 0.7900\n",
            "Epoch 8/10\n",
            "50000/50000 [==============================] - 23s 458us/sample - loss: 0.5591 - acc: 0.8109 - val_loss: 0.6904 - val_acc: 0.7871\n",
            "Epoch 9/10\n",
            "50000/50000 [==============================] - 23s 458us/sample - loss: 0.5481 - acc: 0.8169 - val_loss: 0.7107 - val_acc: 0.7868\n",
            "Epoch 10/10\n",
            "50000/50000 [==============================] - 23s 459us/sample - loss: 0.5488 - acc: 0.8160 - val_loss: 0.7246 - val_acc: 0.7855\n"
          ],
          "name": "stdout"
        },
        {
          "output_type": "execute_result",
          "data": {
            "text/plain": [
              "<tensorflow.python.keras.callbacks.History at 0x7f11488cc9b0>"
            ]
          },
          "metadata": {
            "tags": []
          },
          "execution_count": 37
        }
      ]
    },
    {
      "cell_type": "code",
      "metadata": {
        "id": "RuoHBB6jc2OB",
        "colab_type": "code",
        "colab": {}
      },
      "source": [
        ""
      ],
      "execution_count": 0,
      "outputs": []
    }
  ]
}