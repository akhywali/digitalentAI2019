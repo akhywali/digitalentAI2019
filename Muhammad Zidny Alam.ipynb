{
 "cells": [
  {
   "cell_type": "code",
   "execution_count": 13,
   "metadata": {},
   "outputs": [],
   "source": [
    "import numpy as np"
   ]
  },
  {
   "cell_type": "code",
   "execution_count": 15,
   "metadata": {},
   "outputs": [
    {
     "name": "stdout",
     "output_type": "stream",
     "text": [
      "Masukkan Angka : 701408733\n",
      "Angka Fibonacci lebih rendah dari : 701408733 Adalah 433494437\n"
     ]
    }
   ],
   "source": [
    "\n",
    "bil  = int(input(\"Masukkan Angka : \"))\n",
    "\n",
    "fibo = [0,1]          #membuat array untuk menyimpan deret fibonacci\n",
    "i = 1                 #inisiasi index awal\n",
    "\n",
    "#perhitungan fibonacci sekaligus membandingkan nilai input\n",
    "#jika bilangan fibonacci lebih besar dari input, perhitungan akan behenti\n",
    "while (fibo[i] < bil):\n",
    "    fibo.append(fibo[i] + fibo[i-1])\n",
    "    i = i + 1\n",
    "\n",
    "#output    \n",
    "print(\"Angka Fibonacci lebih rendah dari :\",bil,\"Adalah\",fibo[i-1])"
   ]
  },
  {
   "cell_type": "code",
   "execution_count": 85,
   "metadata": {},
   "outputs": [
    {
     "name": "stdout",
     "output_type": "stream",
     "text": [
      "Tentukan panjang sisi bendera : 11\n",
      "* * * * * * * * * * *  \n",
      "* *               * *  \n",
      "*   *           *   *  \n",
      "*     *       *     *  \n",
      "*       *   *       *  \n",
      "*         *         *  \n",
      "*       *   *       *  \n",
      "*     *       *     *  \n",
      "*   *           *   *  \n",
      "* *               * *  \n",
      "* * * * * * * * * * *  \n"
     ]
    }
   ],
   "source": [
    "#Input sisi bendera\n",
    "n = int(input(\"Tentukan panjang sisi bendera : \"))\n",
    "\n",
    "#looping untuk membuat bendera\n",
    "for row in range(n):\n",
    "    for col in range (n):\n",
    "        #membuat rule untuk menentukan lokasi bintang\n",
    "        if (row == 0 or col == 0 or col == (n-1) or row == (n-1) or row == col or col == (n-1) - row):\n",
    "            print(\"*\",end = \" \")\n",
    "        else :\n",
    "            print(\" \", end=\" \")\n",
    "    print(\" \")\n",
    "    \n",
    "\n"
   ]
  }
 ],
 "metadata": {
  "kernelspec": {
   "display_name": "Python 3",
   "language": "python",
   "name": "python3"
  },
  "language_info": {
   "codemirror_mode": {
    "name": "ipython",
    "version": 3
   },
   "file_extension": ".py",
   "mimetype": "text/x-python",
   "name": "python",
   "nbconvert_exporter": "python",
   "pygments_lexer": "ipython3",
   "version": "3.7.3"
  }
 },
 "nbformat": 4,
 "nbformat_minor": 2
}
