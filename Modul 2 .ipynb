{
 "cells": [
  {
   "cell_type": "markdown",
   "metadata": {},
   "source": [
    "# Modul 2: Tipe Data, Variabel, Dasar Input Output\n",
    "\n",
    "### Luaran Pembelajaran:\n",
    "   1. tipe data dan metode dasar untuk memformat, mengkonversi, input dan output data;\n",
    "   2. operator;\n",
    "   3. variabel.\n",
    "   \n"
   ]
  },
  {
   "cell_type": "markdown",
   "metadata": {},
   "source": [
    "## 2.1 Program Pertama\n",
    "\n",
    "    1. Fungsi/function print()\n",
    "    2. Argument dalam fungsi print\n",
    "    3. Escape Character\n",
    "    4. Parameter sep dan end\n",
    "\n"
   ]
  },
  {
   "cell_type": "markdown",
   "metadata": {},
   "source": [
    "### 2.1.1 Fungsi Print"
   ]
  },
  {
   "cell_type": "code",
   "execution_count": null,
   "metadata": {},
   "outputs": [],
   "source": [
    "print(\"Hello, World!\")"
   ]
  },
  {
   "cell_type": "markdown",
   "metadata": {},
   "source": [
    "### LAB 1\n",
    "        \n",
    "    1. Cetak kalimat \"Hello, Python!\"\n",
    "    2. Cetak nama pertamamu\n",
    "    3. Cetak nama pertamamu tanpa petik\n",
    "    4. apakah ada bedanya double quote \"\" dan single quote ' ?\n"
   ]
  },
  {
   "cell_type": "code",
   "execution_count": null,
   "metadata": {},
   "outputs": [],
   "source": [
    "print(\"Hello, Python!\")\n",
    "print(\"Isna\")\n",
    "print(Isna)\n",
    "print ('Isna')"
   ]
  },
  {
   "cell_type": "markdown",
   "metadata": {},
   "source": [
    "### 2.1.2 Argumen dalam fungsi print()\n",
    "\n",
    "pada fungsi print terdapat argument yang dapat diisi atau dikosongkan. \n",
    "misal print(\"Hello!\") <-- pada contoh ini, argument berisi string \"Hello!\" \n",
    "\n",
    "Argument dalam fungsi print dapat etrdiri dari 2 jenis:\n",
    "1. Positional argumen\n",
    "2. Non positional argumen\n",
    "\n"
   ]
  },
  {
   "cell_type": "code",
   "execution_count": null,
   "metadata": {},
   "outputs": [],
   "source": [
    "print(\"Hello, \")\n",
    "print(\"Isna\")"
   ]
  },
  {
   "cell_type": "code",
   "execution_count": null,
   "metadata": {},
   "outputs": [],
   "source": [
    "print(\"Hello, Python!\", end=\"\")\n",
    "print(\"Isna\")"
   ]
  },
  {
   "cell_type": "markdown",
   "metadata": {},
   "source": [
    "### 2.1.3 Formatting dengan Special Character\n",
    "\n",
    "`\\' = karakter spesial \"escaping nature\"\n",
    "\n",
    "\\n = untuk enter\n",
    "\n",
    "\\ = escaping karakter\n",
    "\n",
    "    print() = berarti line kosong\n",
    "\n",
    "Tidak boleh ada 2 perintah dalam 1 baris\n",
    "\n",
    "    print(\"nama depan\") print (\"nama belakang\")\n",
    "\n"
   ]
  },
  {
   "cell_type": "code",
   "execution_count": null,
   "metadata": {},
   "outputs": [],
   "source": [
    "print(\"seketika langit menjadi gelap\\nkemudian hujan turun dengan deras.\")\n",
    "print()\n",
    "print(\"ibu memasak di dapur\\ndan kakak menyapu di halaman.\")"
   ]
  },
  {
   "cell_type": "code",
   "execution_count": null,
   "metadata": {},
   "outputs": [],
   "source": [
    "print(\"\\\")"
   ]
  },
  {
   "cell_type": "code",
   "execution_count": null,
   "metadata": {},
   "outputs": [],
   "source": [
    "print(\"\\\\\")"
   ]
  },
  {
   "cell_type": "markdown",
   "metadata": {},
   "source": [
    "### Beberapa kalimat dapat dipisahkan dengan koma\n",
    "\n",
    "print(\"The itsy bitsy spider\" , \"climbed up\" , \"the waterspout.\")"
   ]
  },
  {
   "cell_type": "code",
   "execution_count": null,
   "metadata": {},
   "outputs": [],
   "source": [
    "print(\"My name is\", \"Python.\")\n",
    "print(\"Monty Python.\")"
   ]
  },
  {
   "cell_type": "markdown",
   "metadata": {},
   "source": [
    "### 2.1.3 Parameter sep dan end\n",
    "\n",
    "end=\" \" digunakan untuk meletakkan argumen setelah argumen pertama\n",
    "\n",
    "sep=\"=\" digunakan untuk memisahkan antar argumen dengan string kosong atau karakter lain\n"
   ]
  },
  {
   "cell_type": "markdown",
   "metadata": {},
   "source": [
    "contoh penggunaan \"end\""
   ]
  },
  {
   "cell_type": "code",
   "execution_count": null,
   "metadata": {},
   "outputs": [],
   "source": [
    "print(\"My name is\", \"Python.\", end=\"0\")\n",
    "print(\"Monty Python.\")"
   ]
  },
  {
   "cell_type": "code",
   "execution_count": null,
   "metadata": {},
   "outputs": [],
   "source": [
    "print(\"My name is \", end=\"\")\n",
    "print(\"Monty Python.\")"
   ]
  },
  {
   "cell_type": "markdown",
   "metadata": {},
   "source": [
    "contoh penggunaan \"sep\""
   ]
  },
  {
   "cell_type": "code",
   "execution_count": null,
   "metadata": {},
   "outputs": [],
   "source": [
    "print(\"My\", \"name\", \"is\", \"Monty\", \"Python.\", sep=\" \")"
   ]
  },
  {
   "cell_type": "code",
   "execution_count": null,
   "metadata": {},
   "outputs": [],
   "source": [
    "print(\"My\", \"name\", \"is\", sep=\"_\", end=\"*\")\n",
    "print(\"Monty\", \"Python.\", sep=\"*\", end=\"*\\n\")\n",
    "print(\"Digital\", \"Talent\", \"Dahsyat\", sep=\"_\", end=\"*\")\n",
    "print(\"Guntur\", \"Budi.\", sep=\"*\", end=\"*\\n\")"
   ]
  },
  {
   "cell_type": "markdown",
   "metadata": {},
   "source": [
    "### Lab\n",
    "\n",
    "Buatlah Program untuk menghasilkan output: \n",
    "\n",
    "Programming*******Essentials*******in...Python\n"
   ]
  },
  {
   "cell_type": "markdown",
   "metadata": {},
   "source": [
    "## Lab\n",
    "\n",
    "Tugasmu adalah mempersiapkan kode simpel untuk menentukan waktu akhir/selesai sebuah kegiatan. Diberikan variabel durasi waktu dalam menit dan waktu mulai dalam jam (0..23)dan menit (0..59). hasilnya harus dicetak dalam console\n",
    "\n",
    "sebagai contoh, jika suatu kegiatan dimulai pukul 12:17 dan berlangsung selama 59 minutes , maka kegiatan tersebut tersebut akan selesai pukul 13:16\n",
    "\n",
    "jangan takut kalau kodemu belum sempurna, tidak masalah waktunya terlihat tidak valid, yang terpenting kodenya dapat menghasilkan nilai yang valid berdasarkan data input.\n",
    "\n",
    "Kode Dasar:\n",
    "\n",
    "jam = int(input(\"waktu mulai (jam): \"))\n",
    "menit = int(input(\"waktu mulai (menit): \"))\n",
    "durasi= int(input(\"durasi kegiatan (minutes): \"))\n",
    "\n",
    "#### Letakkan kodemu disini\n",
    "\n",
    "Uji Kodemu, Petunjuk ! gunakan operator % sebagai kunci suksesmu\n",
    "\n"
   ]
  },
  {
   "cell_type": "code",
   "execution_count": null,
   "metadata": {},
   "outputs": [],
   "source": [
    "hour = int(input(\"Starting time (hours): \"))   #misal 23\n",
    "mins = int(input(\"Starting time (minutes): \")) # misal 30 \n",
    "dura = int(input(\"Event duration (minutes): \")) #misal 45 \n",
    "\n",
    "\n",
    "hour+=(mins+dura)//60  #hour=23+((30+45)//60) --> 23+1\n",
    "mins=(mins+dura)%60 #mins=(75)%60 --> 15 min\n",
    "\n",
    "print(\"end_time= \", str(hour%24),\":\",str(mins))#hour 24%24=0 --> 0:15"
   ]
  },
  {
   "cell_type": "markdown",
   "metadata": {},
   "source": [
    "http://ugm.id/isnaShare"
   ]
  },
  {
   "cell_type": "code",
   "execution_count": null,
   "metadata": {},
   "outputs": [],
   "source": []
  },
  {
   "cell_type": "code",
   "execution_count": null,
   "metadata": {},
   "outputs": [],
   "source": []
  }
 ],
 "metadata": {
  "kernelspec": {
   "display_name": "Python 3",
   "language": "python",
   "name": "python3"
  },
  "language_info": {
   "codemirror_mode": {
    "name": "ipython",
    "version": 3
   },
   "file_extension": ".py",
   "mimetype": "text/x-python",
   "name": "python",
   "nbconvert_exporter": "python",
   "pygments_lexer": "ipython3",
   "version": "3.7.3"
  }
 },
 "nbformat": 4,
 "nbformat_minor": 2
}
