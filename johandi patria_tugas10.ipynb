{
 "cells": [
  {
   "cell_type": "code",
   "execution_count": 0,
   "metadata": {
    "colab": {},
    "colab_type": "code",
    "id": "2aXK_yLS2_jL",
    "outputId": "f32d0b28-9009-4639-ff23-d888fb00d58e"
   },
   "outputs": [
    {
     "name": "stdout",
     "output_type": "stream",
     "text": [
      "Input:\n",
      "701408733\n",
      "Output:\n",
      "433494437\n"
     ]
    }
   ],
   "source": [
    "print(\"Input:\")\n",
    "a = int(input())\n",
    "print(\"Output:\")\n",
    "\n",
    "num1 = 1\n",
    "num2 = 1\n",
    "num3 = 0\n",
    "\n",
    "if not(a <= 1):\n",
    "    while(True):\n",
    "        num3 = num1 + num2\n",
    "        if(num3 >= a):\n",
    "            print(num2)\n",
    "            break\n",
    "        num1 = num2\n",
    "        num2 = num3\n",
    "else:\n",
    "    print(\"Incorrect input\")"
   ]
  },
  {
   "cell_type": "code",
   "execution_count": 3,
   "metadata": {
    "colab": {},
    "colab_type": "code",
    "id": "CahnUPq62_jh",
    "outputId": "2685213b-dfe4-4914-b9f6-90f500059383"
   },
   "outputs": [
    {
     "name": "stdout",
     "output_type": "stream",
     "text": [
      "Input:\n",
      "21\n",
      "Output:\n",
      "*********************\n",
      "**                 **\n",
      "* *               * *\n",
      "*  *             *  *\n",
      "*   *           *   *\n",
      "*    *         *    *\n",
      "*     *       *     *\n",
      "*      *     *      *\n",
      "*       *   *       *\n",
      "*        * *        *\n",
      "*         *         *\n",
      "*        * *        *\n",
      "*       *   *       *\n",
      "*      *     *      *\n",
      "*     *       *     *\n",
      "*    *         *    *\n",
      "*   *           *   *\n",
      "*  *             *  *\n",
      "* *               * *\n",
      "**                 **\n",
      "*********************\n"
     ]
    }
   ],
   "source": [
    "print(\"Input:\")\n",
    "a = int(input())\n",
    "print(\"Output:\")\n",
    "\n",
    "h = (a // 2) - 1\n",
    "\n",
    "if not(a < 5):\n",
    "    print('*' * a)\n",
    "    for i in range (h):\n",
    "        print('*' + ' ' * (i) + '*' + ' ' * (a - (2 * i + 4) ) + '*' + ' ' * (i) + '*')\n",
    "    if (a % 2 == 1):\n",
    "        print('*' + ' ' * (h) + '*' +  ' ' * (h) + '*')\n",
    "    for i in reversed(range(h)):\n",
    "        print('*' + ' ' * (i) + '*' + ' ' * (a - (2 * i + 4) ) + '*' + ' ' * (i) + '*')\n",
    "    print('*' * a)\n",
    "else:\n",
    "    print(\"Incorrect input\")"
   ]
  },
  {
   "cell_type": "code",
   "execution_count": null,
   "metadata": {},
   "outputs": [],
   "source": []
  }
 ],
 "metadata": {
  "colab": {
   "name": "johandi patria_tugas10.ipynb",
   "provenance": [],
   "version": "0.3.2"
  },
  "kernelspec": {
   "display_name": "Python 3",
   "language": "python",
   "name": "python3"
  },
  "language_info": {
   "codemirror_mode": {
    "name": "ipython",
    "version": 3
   },
   "file_extension": ".py",
   "mimetype": "text/x-python",
   "name": "python",
   "nbconvert_exporter": "python",
   "pygments_lexer": "ipython3",
   "version": "3.7.3"
  }
 },
 "nbformat": 4,
 "nbformat_minor": 1
}
