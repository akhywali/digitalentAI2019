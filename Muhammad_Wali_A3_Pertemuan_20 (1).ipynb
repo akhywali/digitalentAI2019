{
  "nbformat": 4,
  "nbformat_minor": 0,
  "metadata": {
    "colab": {
      "name": "Muhammad_Wali_A3_Pertemuan_20.ipynb",
      "version": "0.3.2",
      "provenance": [],
      "collapsed_sections": []
    },
    "kernelspec": {
      "name": "python3",
      "display_name": "Python 3"
    },
    "accelerator": "GPU"
  },
  "cells": [
    {
      "cell_type": "markdown",
      "metadata": {
        "id": "SAoOQ3iWfcEs",
        "colab_type": "text"
      },
      "source": [
        "Muhammad Wali - **A3**"
      ]
    },
    {
      "cell_type": "code",
      "metadata": {
        "id": "2Ez4mGIRTmcd",
        "colab_type": "code",
        "colab": {}
      },
      "source": [
        "import tensorflow as tf\n",
        "import tensorflow.contrib.eager as tfe\n",
        "import numpy as np"
      ],
      "execution_count": 0,
      "outputs": []
    },
    {
      "cell_type": "code",
      "metadata": {
        "id": "LTBT7MypcsKV",
        "colab_type": "code",
        "colab": {}
      },
      "source": [
        "cifar = tf.keras.datasets.cifar10\n",
        "\n",
        "(train_images, train_labels), (test_images, test_labels) = cifar.load_data()\n",
        "cifar_labels = ['airplane', 'automobile', 'bird', 'cat', 'deer', 'dog', 'frog', 'horse', 'ship', 'truck']"
      ],
      "execution_count": 0,
      "outputs": []
    },
    {
      "cell_type": "code",
      "metadata": {
        "id": "KQ7iyPuWUAss",
        "colab_type": "code",
        "colab": {}
      },
      "source": [
        "#Define model\n",
        "model = tf.keras.models.Sequential()\n",
        "model.add(tf.keras.layers.Conv2D(filters=64,\n",
        "                                kernel_size=(3,3),\n",
        "                                input_shape=(32,32,3),\n",
        "                                padding='same'))\n",
        "model.add(tf.keras.layers.Activation(tf.nn.relu))\n",
        "\n",
        "model.add(tf.keras.layers.Conv2D(filters=64,\n",
        "                                kernel_size=(3,3),\n",
        "                                ))\n",
        "model.add(tf.keras.layers.Dropout(0.2))\n",
        "model.add(tf.keras.layers.Activation(tf.nn.relu))\n",
        "model.add(tf.keras.layers.MaxPooling2D(pool_size=(2,2)))\n",
        "\n",
        "\n",
        "model.add(tf.keras.layers.Conv2D(filters=128,\n",
        "                                kernel_size=(3,3),\n",
        "                                padding='same'))\n",
        "model.add(tf.keras.layers.Dropout(0.2))\n",
        "model.add(tf.keras.layers.Activation(tf.nn.relu))\n",
        "model.add(tf.keras.layers.MaxPooling2D(pool_size=(2,2)))\n",
        "\n",
        "#creating layer Flatten\n",
        "model.add(tf.keras.layers.Flatten())\n",
        "\n",
        "#creating layer Dense\n",
        "\n",
        "model.add(tf.keras.layers.Dense(10, activation=tf.nn.softmax))\n"
      ],
      "execution_count": 0,
      "outputs": []
    },
    {
      "cell_type": "code",
      "metadata": {
        "id": "YU2wVcgoUQBi",
        "colab_type": "code",
        "colab": {}
      },
      "source": [
        "model.compile(optimizer=tf.train.AdamOptimizer(),\n",
        "             loss=tf.keras.losses.sparse_categorical_crossentropy,\n",
        "             metrics=['accuracy'])"
      ],
      "execution_count": 0,
      "outputs": []
    },
    {
      "cell_type": "markdown",
      "metadata": {
        "id": "wVmV8WO4gGBV",
        "colab_type": "text"
      },
      "source": [
        ""
      ]
    },
    {
      "cell_type": "code",
      "metadata": {
        "id": "nID-3JuyY8a3",
        "colab_type": "code",
        "colab": {
          "base_uri": "https://localhost:8080/",
          "height": 221
        },
        "outputId": "cbb4d8fe-bff0-4479-a1a6-fcc6de0dbade"
      },
      "source": [
        "model.fit(x=train_images,\n",
        "         y=train_labels,\n",
        "         batch_size=32,\n",
        "         epochs=5,\n",
        "         validation_data=(test_images, test_labels))\n"
      ],
      "execution_count": 36,
      "outputs": [
        {
          "output_type": "stream",
          "text": [
            "Train on 50000 samples, validate on 10000 samples\n",
            "Epoch 1/5\n",
            "50000/50000 [==============================] - 25s 492us/sample - loss: 1.7286 - acc: 0.4643 - val_loss: 1.2312 - val_acc: 0.5731\n",
            "Epoch 2/5\n",
            "50000/50000 [==============================] - 24s 478us/sample - loss: 1.1661 - acc: 0.5957 - val_loss: 1.1756 - val_acc: 0.6015\n",
            "Epoch 3/5\n",
            "50000/50000 [==============================] - 24s 484us/sample - loss: 1.0445 - acc: 0.6401 - val_loss: 1.0476 - val_acc: 0.6507\n",
            "Epoch 4/5\n",
            "50000/50000 [==============================] - 24s 482us/sample - loss: 0.9709 - acc: 0.6673 - val_loss: 1.0340 - val_acc: 0.6443\n",
            "Epoch 5/5\n",
            "50000/50000 [==============================] - 24s 482us/sample - loss: 0.9204 - acc: 0.6840 - val_loss: 0.9803 - val_acc: 0.6648\n"
          ],
          "name": "stdout"
        },
        {
          "output_type": "execute_result",
          "data": {
            "text/plain": [
              "<tensorflow.python.keras.callbacks.History at 0x7fe77d1d0550>"
            ]
          },
          "metadata": {
            "tags": []
          },
          "execution_count": 36
        }
      ]
    },
    {
      "cell_type": "code",
      "metadata": {
        "id": "RuoHBB6jc2OB",
        "colab_type": "code",
        "colab": {
          "base_uri": "https://localhost:8080/",
          "height": 51
        },
        "outputId": "7ae4b30e-28ec-4fd6-d893-e07fe539296c"
      },
      "source": [
        "scores = model.evaluate(test_images, test_labels)\n",
        "print('Test Result'+str(scores))"
      ],
      "execution_count": 37,
      "outputs": [
        {
          "output_type": "stream",
          "text": [
            "10000/10000 [==============================] - 2s 210us/sample - loss: 0.9803 - acc: 0.6648\n",
            "Test Result[0.9802523451805115, 0.6648]\n"
          ],
          "name": "stdout"
        }
      ]
    },
    {
      "cell_type": "code",
      "metadata": {
        "id": "OZmOXFQ9Gb3h",
        "colab_type": "code",
        "colab": {}
      },
      "source": [
        ""
      ],
      "execution_count": 0,
      "outputs": []
    }
  ]
}