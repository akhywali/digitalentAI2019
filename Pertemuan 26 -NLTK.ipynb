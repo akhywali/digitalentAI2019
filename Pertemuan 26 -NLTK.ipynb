{
 "cells": [
  {
   "cell_type": "code",
   "execution_count": 1,
   "metadata": {},
   "outputs": [],
   "source": [
    "import nltk\n",
    "#nltk.download('popular')"
   ]
  },
  {
   "cell_type": "code",
   "execution_count": 2,
   "metadata": {},
   "outputs": [],
   "source": [
    "from nltk.tokenize import word_tokenize\n",
    "from nltk.text import Text"
   ]
  },
  {
   "cell_type": "code",
   "execution_count": 3,
   "metadata": {},
   "outputs": [
    {
     "data": {
      "text/plain": [
       "['two', 'plus', 'two', 'is', 'four']"
      ]
     },
     "execution_count": 3,
     "metadata": {},
     "output_type": "execute_result"
    }
   ],
   "source": [
    "my_string = \"Two plus two is four, minus one thats three - quick maths. Every day man's on the block. Smoke trees.\"\n",
    "tokens = word_tokenize(my_string)\n",
    "tokens = [word.lower() for word in tokens]\n",
    "tokens[:5]"
   ]
  },
  {
   "cell_type": "code",
   "execution_count": 4,
   "metadata": {},
   "outputs": [
    {
     "data": {
      "text/plain": [
       "<Text: two plus two is four , minus one...>"
      ]
     },
     "execution_count": 4,
     "metadata": {},
     "output_type": "execute_result"
    }
   ],
   "source": [
    "t =  Text (tokens)\n",
    "t"
   ]
  },
  {
   "cell_type": "code",
   "execution_count": 5,
   "metadata": {},
   "outputs": [
    {
     "data": {
      "text/plain": [
       "['dua', 'tambah', 'dua', 'adalah', 'empat']"
      ]
     },
     "execution_count": 5,
     "metadata": {},
     "output_type": "execute_result"
    }
   ],
   "source": [
    "my_string = \"Dua tambah dua adalah empat, kurang satu itu tiga - matematika cepat. Setiap pria di block. Pohon merokok.\"\n",
    "tokens = word_tokenize(my_string)\n",
    "tokens = [word.lower() for word in tokens]\n",
    "tokens[:5]"
   ]
  },
  {
   "cell_type": "code",
   "execution_count": 6,
   "metadata": {},
   "outputs": [
    {
     "data": {
      "text/plain": [
       "<Text: dua tambah dua adalah empat , kurang satu...>"
      ]
     },
     "execution_count": 6,
     "metadata": {},
     "output_type": "execute_result"
    }
   ],
   "source": [
    "t =  Text (tokens)\n",
    "t"
   ]
  },
  {
   "cell_type": "code",
   "execution_count": 17,
   "metadata": {},
   "outputs": [
    {
     "name": "stderr",
     "output_type": "stream",
     "text": [
      "d:\\dts(beasiswa digitalent)\\miniconda3\\lib\\site-packages\\ipykernel_launcher.py:1: DeprecationWarning: 'U' mode is deprecated\n",
      "  \"\"\"Entry point for launching an IPython kernel.\n"
     ]
    }
   ],
   "source": [
    "f = open('my-file.txt', 'rU').read()"
   ]
  },
  {
   "cell_type": "code",
   "execution_count": 18,
   "metadata": {},
   "outputs": [],
   "source": [
    "from nltk.tokenize import sent_tokenize"
   ]
  },
  {
   "cell_type": "code",
   "execution_count": 19,
   "metadata": {},
   "outputs": [
    {
     "data": {
      "text/plain": [
       "['babylonian king nebuchadnezzar ii may have spent his final years pretending to be a cow.',\n",
       " 'boanthropy purportedly still occurs \"when a person, in a delusional state, believes [themselves] to be an ox or cow...and attempts to live and behave accordingly.']"
      ]
     },
     "execution_count": 19,
     "metadata": {},
     "output_type": "execute_result"
    }
   ],
   "source": [
    "token_indo = sent_tokenize(f)\n",
    "token_indo= [word.lower() for word in token_indo]\n",
    "token_indo[:]"
   ]
  },
  {
   "cell_type": "code",
   "execution_count": 20,
   "metadata": {},
   "outputs": [
    {
     "data": {
      "text/plain": [
       "['Babylonian',\n",
       " 'king',\n",
       " 'Nebuchadnezzar',\n",
       " 'II',\n",
       " 'may',\n",
       " 'have',\n",
       " 'spent',\n",
       " 'his',\n",
       " 'final',\n",
       " 'years',\n",
       " 'pretending',\n",
       " 'to',\n",
       " 'be',\n",
       " 'a',\n",
       " 'cow.',\n",
       " 'Boanthropy',\n",
       " 'purportedly',\n",
       " 'still',\n",
       " 'occurs',\n",
       " '\"when',\n",
       " 'a',\n",
       " 'person,',\n",
       " 'in',\n",
       " 'a',\n",
       " 'delusional',\n",
       " 'state,',\n",
       " 'believes',\n",
       " '[themselves]',\n",
       " 'to',\n",
       " 'be',\n",
       " 'an',\n",
       " 'ox',\n",
       " 'or',\n",
       " 'cow...and',\n",
       " 'attempts',\n",
       " 'to',\n",
       " 'live',\n",
       " 'and',\n",
       " 'behave',\n",
       " 'accordingly.']"
      ]
     },
     "execution_count": 20,
     "metadata": {},
     "output_type": "execute_result"
    }
   ],
   "source": [
    "f.split()"
   ]
  },
  {
   "cell_type": "code",
   "execution_count": 22,
   "metadata": {},
   "outputs": [
    {
     "name": "stdout",
     "output_type": "stream",
     "text": [
      "['Babylonian king Nebuchadnezzar II may have spent his final years pretending to be a cow.', 'Boanthropy purportedly still occurs \"when a person, in a delusional state, believes [themselves] to be an ox or cow...and attempts to live and behave accordingly.']\n"
     ]
    }
   ],
   "source": [
    "print(sent_tokenize(f))"
   ]
  },
  {
   "cell_type": "code",
   "execution_count": 14,
   "metadata": {},
   "outputs": [
    {
     "name": "stdout",
     "output_type": "stream",
     "text": [
      "['I', 'am', 'So', 'Happpy']\n"
     ]
    }
   ],
   "source": [
    "from nltk.tokenize import TweetTokenizer\n",
    "Tokenizer = TweetTokenizer(strip_handles=True, reduce_len=True)\n",
    "tweet = \"@Kirana_Sutanto I am So Happpppy\"\n",
    "print(Tokenizer.tokenize(tweet))"
   ]
  },
  {
   "cell_type": "code",
   "execution_count": 15,
   "metadata": {},
   "outputs": [],
   "source": [
    "t = Text (tokens)"
   ]
  },
  {
   "cell_type": "code",
   "execution_count": 16,
   "metadata": {},
   "outputs": [
    {
     "name": "stdout",
     "output_type": "stream",
     "text": [
      "no matches\n"
     ]
    }
   ],
   "source": [
    "t.concordance('uckers')"
   ]
  },
  {
   "cell_type": "code",
   "execution_count": 29,
   "metadata": {},
   "outputs": [
    {
     "data": {
      "text/plain": [
       "['karena', 'mati', 'listrik', ',', 'siang']"
      ]
     },
     "execution_count": 29,
     "metadata": {},
     "output_type": "execute_result"
    }
   ],
   "source": [
    "string_indo = \"Karena mati listrik, siang tadi susah sekali mencari tempat makan bersama mas Hengky Kurniawan. Insya Allah kedepan tidak ada lagi kejadian mati lampu seperti hari ini. Ekonomi terhenti, banyak UMKM yang terpaksa harus tutup. Kita doakan ya guys...\"\n",
    "tokenku = word_tokenize(string_indo)\n",
    "tokenku = [word.lower() for word in tokenku]\n",
    "tokenku[:5]"
   ]
  },
  {
   "cell_type": "code",
   "execution_count": 31,
   "metadata": {},
   "outputs": [
    {
     "name": "stdout",
     "output_type": "stream",
     "text": [
      "\n"
     ]
    }
   ],
   "source": [
    "t = Text(tokenku)\n",
    "t.collocations()"
   ]
  },
  {
   "cell_type": "code",
   "execution_count": 35,
   "metadata": {},
   "outputs": [
    {
     "data": {
      "image/png": "[encoded data removed]",
      "text/plain": [
       "<Figure size 432x288 with 1 Axes>"
      ]
     },
     "metadata": {
      "needs_background": "light"
     },
     "output_type": "display_data"
    }
   ],
   "source": [
    "import matplotlib.pyplot as plt\n",
    "t.plot(10)"
   ]
  },
  {
   "cell_type": "code",
   "execution_count": 36,
   "metadata": {},
   "outputs": [
    {
     "name": "stderr",
     "output_type": "stream",
     "text": [
      "d:\\dts(beasiswa digitalent)\\miniconda3\\lib\\site-packages\\ipykernel_launcher.py:1: DeprecationWarning: 'U' mode is deprecated\n",
      "  \"\"\"Entry point for launching an IPython kernel.\n"
     ]
    }
   ],
   "source": [
    "f = open('elsintha.txt', 'rU').read()"
   ]
  },
  {
   "cell_type": "code",
   "execution_count": 37,
   "metadata": {},
   "outputs": [],
   "source": [
    "from nltk.tokenize import sent_tokenize"
   ]
  },
  {
   "cell_type": "code",
   "execution_count": 38,
   "metadata": {},
   "outputs": [
    {
     "data": {
      "text/plain": [
       "['elshinta yang baik hati\\n\\ndi sebuah desa di negeri yang jauh disana hiduplah seorang anak perempuan bernama elisha.',\n",
       " 'ia adalah anak yang periang dan suka menolong.',\n",
       " 'suatu hari, elisha berjalan-jalan di hutan.',\n",
       " 'tiba-tiba, terdengar suara terjatuh dari atas pohon.',\n",
       " '\"buukk!\"',\n",
       " 'suara itu sangat kencang, membuat elisha penasaran.',\n",
       " 'ia pun mencari asal suara itu.',\n",
       " 'olala, ternyata yang terjatuh adalah seekor burung yang sangat cantik.',\n",
       " 'kaki burung itu tampak terluka.',\n",
       " 'elisha segera berlari mengambil burung itu.',\n",
       " '\"tenang saja, burung.',\n",
       " 'aku akan membawamu pulang dan merawatmu,\" ucap elisha.',\n",
       " 'elisha bergegas pulang ke rumah dengan membawa burung tersebut.',\n",
       " 'sesampainya di rumah, elisha bertemu dengan kakaknya.',\n",
       " 'kakaknya sangat senang.',\n",
       " 'ia mengira elisha membawa burung untuk makan malam.',\n",
       " '\"kebetulan sekali kau membawa burung.',\n",
       " 'aku memang ingin memasak burung malam ini,\" kata kakak elisha.',\n",
       " '\"tidak, kakak.',\n",
       " 'burung ini terluka, dan aku akan merawatnya,\" ujar elisha.',\n",
       " 'elisha lalu mengambil kotak obat dan segera mengobati luka di kaki burung itu.',\n",
       " 'ia juga merawat burung itu dengan baik.',\n",
       " 'ia tak pernah meninggalkannya barang sebentar.',\n",
       " 'ia khawatir, jika ia meninggalkan burung itu, bisa-bisa kakaknya akan memasaknya.',\n",
       " 'berhari-hari elisha merawat burung itu.',\n",
       " 'akhirnya, burung itu kembali sehat dan lukanya sembuh.',\n",
       " 'tiba-tiba, kakaknya menghampirinya\\n\\n\"kita sudah kehabisan bahan makanan.',\n",
       " 'biarkan aku memasak burung itu.',\n",
       " 'jika kita tidak memasaknya, malam ini kita tak akan bisa makan,\" ucap kakak elisha.',\n",
       " 'mendengar ucapan kakaknya, elisha menjadi sangat bingung dan sedih.',\n",
       " 'ia sangat menyayangi burung itu.',\n",
       " 'bahkan, ia berniat akan melepaskannya di hutan.',\n",
       " 'rasa sayangnya yang sangat dalam membuat elisha tetap melepaskan burung itu di hutan.',\n",
       " '\"biarlah aku tak bisa makan malam ini, asal burung ini bisa terbang dengan bebas,\" pikir elisha.',\n",
       " 'elisha lalu melemparkan burung itu ke udara.',\n",
       " 'olala, tiba-tiba burung itu berkilau sangat terang, dan berubah menjadi seorang peri.',\n",
       " '\"aku tahu kau sedang bersedih, elisha.',\n",
       " 'karena kau sudah baik kepadaku, aku akan menolongmu.',\n",
       " 'mulai sekarang, kau tak akan kekurangan makanan lagi.',\n",
       " 'aku akan menyiapkan persediaan makanan untuk keluargamu,\" ucap peri burung itu.',\n",
       " 'elisha masih tak percaya dengan apa yang ia lihat.',\n",
       " '\"sekarang, pulanglah.',\n",
       " 'kau akan menemukan banyak persediaan makanan di ladang belakang rumahmu,\" lanjut peri burung itu.',\n",
       " 'elisha pun pulang.',\n",
       " 'benar saja.',\n",
       " 'di ladang be lakang rumahnya, tumbuh tanaman dengan sangat subur.',\n",
       " 'tanaman itu akan mencukupi semu kebutuhan makanan elisha dan keluarganya.',\n",
       " 'elisha sangat bersyukur, sebab keluarganya tidak akan kelaparan lagi.',\n",
       " 'ah, elisha memang pantas mendapatkannya, karena ia anak yang baik.']"
      ]
     },
     "execution_count": 38,
     "metadata": {},
     "output_type": "execute_result"
    }
   ],
   "source": [
    "token_indo = sent_tokenize(f)\n",
    "token_indo= [word.lower() for word in token_indo]\n",
    "token_indo[:]"
   ]
  },
  {
   "cell_type": "code",
   "execution_count": 68,
   "metadata": {},
   "outputs": [
    {
     "name": "stderr",
     "output_type": "stream",
     "text": [
      "d:\\dts(beasiswa digitalent)\\miniconda3\\lib\\site-packages\\ipykernel_launcher.py:1: DeprecationWarning: 'U' mode is deprecated\n",
      "  \"\"\"Entry point for launching an IPython kernel.\n"
     ]
    },
    {
     "ename": "TypeError",
     "evalue": "expected string or bytes-like object",
     "output_type": "error",
     "traceback": [
      "\u001b[1;31m---------------------------------------------------------------------------\u001b[0m",
      "\u001b[1;31mTypeError\u001b[0m                                 Traceback (most recent call last)",
      "\u001b[1;32m<ipython-input-68-374a6f471a95>\u001b[0m in \u001b[0;36m<module>\u001b[1;34m\u001b[0m\n\u001b[0;32m      1\u001b[0m \u001b[0minggris\u001b[0m \u001b[1;33m=\u001b[0m \u001b[0mopen\u001b[0m\u001b[1;33m(\u001b[0m\u001b[1;34m'walden.txt'\u001b[0m\u001b[1;33m,\u001b[0m \u001b[1;34m'rU'\u001b[0m\u001b[1;33m)\u001b[0m\u001b[1;33m.\u001b[0m\u001b[0mread\u001b[0m\u001b[1;33m\u001b[0m\u001b[1;33m\u001b[0m\u001b[0m\n\u001b[1;32m----> 2\u001b[1;33m \u001b[0martikel_inggris\u001b[0m \u001b[1;33m=\u001b[0m \u001b[0msent_tokenize\u001b[0m\u001b[1;33m(\u001b[0m\u001b[0minggris\u001b[0m\u001b[1;33m)\u001b[0m\u001b[1;33m\u001b[0m\u001b[1;33m\u001b[0m\u001b[0m\n\u001b[0m\u001b[0;32m      3\u001b[0m \u001b[0martikel_inggris\u001b[0m\u001b[1;33m=\u001b[0m \u001b[1;33m[\u001b[0m\u001b[0mword\u001b[0m\u001b[1;33m.\u001b[0m\u001b[0mlower\u001b[0m\u001b[1;33m(\u001b[0m\u001b[1;33m)\u001b[0m \u001b[1;32mfor\u001b[0m \u001b[0mword\u001b[0m \u001b[1;32min\u001b[0m \u001b[0marikel_inggris\u001b[0m\u001b[1;33m]\u001b[0m\u001b[1;33m\u001b[0m\u001b[1;33m\u001b[0m\u001b[0m\n\u001b[0;32m      4\u001b[0m \u001b[0martikel_inggris\u001b[0m\u001b[1;33m[\u001b[0m\u001b[1;33m:\u001b[0m\u001b[1;33m]\u001b[0m\u001b[1;33m\u001b[0m\u001b[1;33m\u001b[0m\u001b[0m\n",
      "\u001b[1;32md:\\dts(beasiswa digitalent)\\miniconda3\\lib\\site-packages\\nltk\\tokenize\\__init__.py\u001b[0m in \u001b[0;36msent_tokenize\u001b[1;34m(text, language)\u001b[0m\n\u001b[0;32m    104\u001b[0m     \"\"\"\n\u001b[0;32m    105\u001b[0m     \u001b[0mtokenizer\u001b[0m \u001b[1;33m=\u001b[0m \u001b[0mload\u001b[0m\u001b[1;33m(\u001b[0m\u001b[1;34m'tokenizers/punkt/{0}.pickle'\u001b[0m\u001b[1;33m.\u001b[0m\u001b[0mformat\u001b[0m\u001b[1;33m(\u001b[0m\u001b[0mlanguage\u001b[0m\u001b[1;33m)\u001b[0m\u001b[1;33m)\u001b[0m\u001b[1;33m\u001b[0m\u001b[1;33m\u001b[0m\u001b[0m\n\u001b[1;32m--> 106\u001b[1;33m     \u001b[1;32mreturn\u001b[0m \u001b[0mtokenizer\u001b[0m\u001b[1;33m.\u001b[0m\u001b[0mtokenize\u001b[0m\u001b[1;33m(\u001b[0m\u001b[0mtext\u001b[0m\u001b[1;33m)\u001b[0m\u001b[1;33m\u001b[0m\u001b[1;33m\u001b[0m\u001b[0m\n\u001b[0m\u001b[0;32m    107\u001b[0m \u001b[1;33m\u001b[0m\u001b[0m\n\u001b[0;32m    108\u001b[0m \u001b[1;33m\u001b[0m\u001b[0m\n",
      "\u001b[1;32md:\\dts(beasiswa digitalent)\\miniconda3\\lib\\site-packages\\nltk\\tokenize\\punkt.py\u001b[0m in \u001b[0;36mtokenize\u001b[1;34m(self, text, realign_boundaries)\u001b[0m\n\u001b[0;32m   1275\u001b[0m         \u001b[0mGiven\u001b[0m \u001b[0ma\u001b[0m \u001b[0mtext\u001b[0m\u001b[1;33m,\u001b[0m \u001b[0mreturns\u001b[0m \u001b[0ma\u001b[0m \u001b[0mlist\u001b[0m \u001b[0mof\u001b[0m \u001b[0mthe\u001b[0m \u001b[0msentences\u001b[0m \u001b[1;32min\u001b[0m \u001b[0mthat\u001b[0m \u001b[0mtext\u001b[0m\u001b[1;33m.\u001b[0m\u001b[1;33m\u001b[0m\u001b[1;33m\u001b[0m\u001b[0m\n\u001b[0;32m   1276\u001b[0m         \"\"\"\n\u001b[1;32m-> 1277\u001b[1;33m         \u001b[1;32mreturn\u001b[0m \u001b[0mlist\u001b[0m\u001b[1;33m(\u001b[0m\u001b[0mself\u001b[0m\u001b[1;33m.\u001b[0m\u001b[0msentences_from_text\u001b[0m\u001b[1;33m(\u001b[0m\u001b[0mtext\u001b[0m\u001b[1;33m,\u001b[0m \u001b[0mrealign_boundaries\u001b[0m\u001b[1;33m)\u001b[0m\u001b[1;33m)\u001b[0m\u001b[1;33m\u001b[0m\u001b[1;33m\u001b[0m\u001b[0m\n\u001b[0m\u001b[0;32m   1278\u001b[0m \u001b[1;33m\u001b[0m\u001b[0m\n\u001b[0;32m   1279\u001b[0m     \u001b[1;32mdef\u001b[0m \u001b[0mdebug_decisions\u001b[0m\u001b[1;33m(\u001b[0m\u001b[0mself\u001b[0m\u001b[1;33m,\u001b[0m \u001b[0mtext\u001b[0m\u001b[1;33m)\u001b[0m\u001b[1;33m:\u001b[0m\u001b[1;33m\u001b[0m\u001b[1;33m\u001b[0m\u001b[0m\n",
      "\u001b[1;32md:\\dts(beasiswa digitalent)\\miniconda3\\lib\\site-packages\\nltk\\tokenize\\punkt.py\u001b[0m in \u001b[0;36msentences_from_text\u001b[1;34m(self, text, realign_boundaries)\u001b[0m\n\u001b[0;32m   1329\u001b[0m         \u001b[0mfollows\u001b[0m \u001b[0mthe\u001b[0m \u001b[0mperiod\u001b[0m\u001b[1;33m.\u001b[0m\u001b[1;33m\u001b[0m\u001b[1;33m\u001b[0m\u001b[0m\n\u001b[0;32m   1330\u001b[0m         \"\"\"\n\u001b[1;32m-> 1331\u001b[1;33m         \u001b[1;32mreturn\u001b[0m \u001b[1;33m[\u001b[0m\u001b[0mtext\u001b[0m\u001b[1;33m[\u001b[0m\u001b[0ms\u001b[0m\u001b[1;33m:\u001b[0m\u001b[0me\u001b[0m\u001b[1;33m]\u001b[0m \u001b[1;32mfor\u001b[0m \u001b[0ms\u001b[0m\u001b[1;33m,\u001b[0m \u001b[0me\u001b[0m \u001b[1;32min\u001b[0m \u001b[0mself\u001b[0m\u001b[1;33m.\u001b[0m\u001b[0mspan_tokenize\u001b[0m\u001b[1;33m(\u001b[0m\u001b[0mtext\u001b[0m\u001b[1;33m,\u001b[0m \u001b[0mrealign_boundaries\u001b[0m\u001b[1;33m)\u001b[0m\u001b[1;33m]\u001b[0m\u001b[1;33m\u001b[0m\u001b[1;33m\u001b[0m\u001b[0m\n\u001b[0m\u001b[0;32m   1332\u001b[0m \u001b[1;33m\u001b[0m\u001b[0m\n\u001b[0;32m   1333\u001b[0m     \u001b[1;32mdef\u001b[0m \u001b[0m_slices_from_text\u001b[0m\u001b[1;33m(\u001b[0m\u001b[0mself\u001b[0m\u001b[1;33m,\u001b[0m \u001b[0mtext\u001b[0m\u001b[1;33m)\u001b[0m\u001b[1;33m:\u001b[0m\u001b[1;33m\u001b[0m\u001b[1;33m\u001b[0m\u001b[0m\n",
      "\u001b[1;32md:\\dts(beasiswa digitalent)\\miniconda3\\lib\\site-packages\\nltk\\tokenize\\punkt.py\u001b[0m in \u001b[0;36m<listcomp>\u001b[1;34m(.0)\u001b[0m\n\u001b[0;32m   1329\u001b[0m         \u001b[0mfollows\u001b[0m \u001b[0mthe\u001b[0m \u001b[0mperiod\u001b[0m\u001b[1;33m.\u001b[0m\u001b[1;33m\u001b[0m\u001b[1;33m\u001b[0m\u001b[0m\n\u001b[0;32m   1330\u001b[0m         \"\"\"\n\u001b[1;32m-> 1331\u001b[1;33m         \u001b[1;32mreturn\u001b[0m \u001b[1;33m[\u001b[0m\u001b[0mtext\u001b[0m\u001b[1;33m[\u001b[0m\u001b[0ms\u001b[0m\u001b[1;33m:\u001b[0m\u001b[0me\u001b[0m\u001b[1;33m]\u001b[0m \u001b[1;32mfor\u001b[0m \u001b[0ms\u001b[0m\u001b[1;33m,\u001b[0m \u001b[0me\u001b[0m \u001b[1;32min\u001b[0m \u001b[0mself\u001b[0m\u001b[1;33m.\u001b[0m\u001b[0mspan_tokenize\u001b[0m\u001b[1;33m(\u001b[0m\u001b[0mtext\u001b[0m\u001b[1;33m,\u001b[0m \u001b[0mrealign_boundaries\u001b[0m\u001b[1;33m)\u001b[0m\u001b[1;33m]\u001b[0m\u001b[1;33m\u001b[0m\u001b[1;33m\u001b[0m\u001b[0m\n\u001b[0m\u001b[0;32m   1332\u001b[0m \u001b[1;33m\u001b[0m\u001b[0m\n\u001b[0;32m   1333\u001b[0m     \u001b[1;32mdef\u001b[0m \u001b[0m_slices_from_text\u001b[0m\u001b[1;33m(\u001b[0m\u001b[0mself\u001b[0m\u001b[1;33m,\u001b[0m \u001b[0mtext\u001b[0m\u001b[1;33m)\u001b[0m\u001b[1;33m:\u001b[0m\u001b[1;33m\u001b[0m\u001b[1;33m\u001b[0m\u001b[0m\n",
      "\u001b[1;32md:\\dts(beasiswa digitalent)\\miniconda3\\lib\\site-packages\\nltk\\tokenize\\punkt.py\u001b[0m in \u001b[0;36mspan_tokenize\u001b[1;34m(self, text, realign_boundaries)\u001b[0m\n\u001b[0;32m   1319\u001b[0m         \u001b[1;32mif\u001b[0m \u001b[0mrealign_boundaries\u001b[0m\u001b[1;33m:\u001b[0m\u001b[1;33m\u001b[0m\u001b[1;33m\u001b[0m\u001b[0m\n\u001b[0;32m   1320\u001b[0m             \u001b[0mslices\u001b[0m \u001b[1;33m=\u001b[0m \u001b[0mself\u001b[0m\u001b[1;33m.\u001b[0m\u001b[0m_realign_boundaries\u001b[0m\u001b[1;33m(\u001b[0m\u001b[0mtext\u001b[0m\u001b[1;33m,\u001b[0m \u001b[0mslices\u001b[0m\u001b[1;33m)\u001b[0m\u001b[1;33m\u001b[0m\u001b[1;33m\u001b[0m\u001b[0m\n\u001b[1;32m-> 1321\u001b[1;33m         \u001b[1;32mfor\u001b[0m \u001b[0msl\u001b[0m \u001b[1;32min\u001b[0m \u001b[0mslices\u001b[0m\u001b[1;33m:\u001b[0m\u001b[1;33m\u001b[0m\u001b[1;33m\u001b[0m\u001b[0m\n\u001b[0m\u001b[0;32m   1322\u001b[0m             \u001b[1;32myield\u001b[0m \u001b[1;33m(\u001b[0m\u001b[0msl\u001b[0m\u001b[1;33m.\u001b[0m\u001b[0mstart\u001b[0m\u001b[1;33m,\u001b[0m \u001b[0msl\u001b[0m\u001b[1;33m.\u001b[0m\u001b[0mstop\u001b[0m\u001b[1;33m)\u001b[0m\u001b[1;33m\u001b[0m\u001b[1;33m\u001b[0m\u001b[0m\n\u001b[0;32m   1323\u001b[0m \u001b[1;33m\u001b[0m\u001b[0m\n",
      "\u001b[1;32md:\\dts(beasiswa digitalent)\\miniconda3\\lib\\site-packages\\nltk\\tokenize\\punkt.py\u001b[0m in \u001b[0;36m_realign_boundaries\u001b[1;34m(self, text, slices)\u001b[0m\n\u001b[0;32m   1360\u001b[0m         \"\"\"\n\u001b[0;32m   1361\u001b[0m         \u001b[0mrealign\u001b[0m \u001b[1;33m=\u001b[0m \u001b[1;36m0\u001b[0m\u001b[1;33m\u001b[0m\u001b[1;33m\u001b[0m\u001b[0m\n\u001b[1;32m-> 1362\u001b[1;33m         \u001b[1;32mfor\u001b[0m \u001b[0msl1\u001b[0m\u001b[1;33m,\u001b[0m \u001b[0msl2\u001b[0m \u001b[1;32min\u001b[0m \u001b[0m_pair_iter\u001b[0m\u001b[1;33m(\u001b[0m\u001b[0mslices\u001b[0m\u001b[1;33m)\u001b[0m\u001b[1;33m:\u001b[0m\u001b[1;33m\u001b[0m\u001b[1;33m\u001b[0m\u001b[0m\n\u001b[0m\u001b[0;32m   1363\u001b[0m             \u001b[0msl1\u001b[0m \u001b[1;33m=\u001b[0m \u001b[0mslice\u001b[0m\u001b[1;33m(\u001b[0m\u001b[0msl1\u001b[0m\u001b[1;33m.\u001b[0m\u001b[0mstart\u001b[0m \u001b[1;33m+\u001b[0m \u001b[0mrealign\u001b[0m\u001b[1;33m,\u001b[0m \u001b[0msl1\u001b[0m\u001b[1;33m.\u001b[0m\u001b[0mstop\u001b[0m\u001b[1;33m)\u001b[0m\u001b[1;33m\u001b[0m\u001b[1;33m\u001b[0m\u001b[0m\n\u001b[0;32m   1364\u001b[0m             \u001b[1;32mif\u001b[0m \u001b[1;32mnot\u001b[0m \u001b[0msl2\u001b[0m\u001b[1;33m:\u001b[0m\u001b[1;33m\u001b[0m\u001b[1;33m\u001b[0m\u001b[0m\n",
      "\u001b[1;32md:\\dts(beasiswa digitalent)\\miniconda3\\lib\\site-packages\\nltk\\tokenize\\punkt.py\u001b[0m in \u001b[0;36m_pair_iter\u001b[1;34m(it)\u001b[0m\n\u001b[0;32m    316\u001b[0m     \u001b[0mit\u001b[0m \u001b[1;33m=\u001b[0m \u001b[0miter\u001b[0m\u001b[1;33m(\u001b[0m\u001b[0mit\u001b[0m\u001b[1;33m)\u001b[0m\u001b[1;33m\u001b[0m\u001b[1;33m\u001b[0m\u001b[0m\n\u001b[0;32m    317\u001b[0m     \u001b[1;32mtry\u001b[0m\u001b[1;33m:\u001b[0m\u001b[1;33m\u001b[0m\u001b[1;33m\u001b[0m\u001b[0m\n\u001b[1;32m--> 318\u001b[1;33m         \u001b[0mprev\u001b[0m \u001b[1;33m=\u001b[0m \u001b[0mnext\u001b[0m\u001b[1;33m(\u001b[0m\u001b[0mit\u001b[0m\u001b[1;33m)\u001b[0m\u001b[1;33m\u001b[0m\u001b[1;33m\u001b[0m\u001b[0m\n\u001b[0m\u001b[0;32m    319\u001b[0m     \u001b[1;32mexcept\u001b[0m \u001b[0mStopIteration\u001b[0m\u001b[1;33m:\u001b[0m\u001b[1;33m\u001b[0m\u001b[1;33m\u001b[0m\u001b[0m\n\u001b[0;32m    320\u001b[0m         \u001b[1;32mreturn\u001b[0m\u001b[1;33m\u001b[0m\u001b[1;33m\u001b[0m\u001b[0m\n",
      "\u001b[1;32md:\\dts(beasiswa digitalent)\\miniconda3\\lib\\site-packages\\nltk\\tokenize\\punkt.py\u001b[0m in \u001b[0;36m_slices_from_text\u001b[1;34m(self, text)\u001b[0m\n\u001b[0;32m   1333\u001b[0m     \u001b[1;32mdef\u001b[0m \u001b[0m_slices_from_text\u001b[0m\u001b[1;33m(\u001b[0m\u001b[0mself\u001b[0m\u001b[1;33m,\u001b[0m \u001b[0mtext\u001b[0m\u001b[1;33m)\u001b[0m\u001b[1;33m:\u001b[0m\u001b[1;33m\u001b[0m\u001b[1;33m\u001b[0m\u001b[0m\n\u001b[0;32m   1334\u001b[0m         \u001b[0mlast_break\u001b[0m \u001b[1;33m=\u001b[0m \u001b[1;36m0\u001b[0m\u001b[1;33m\u001b[0m\u001b[1;33m\u001b[0m\u001b[0m\n\u001b[1;32m-> 1335\u001b[1;33m         \u001b[1;32mfor\u001b[0m \u001b[0mmatch\u001b[0m \u001b[1;32min\u001b[0m \u001b[0mself\u001b[0m\u001b[1;33m.\u001b[0m\u001b[0m_lang_vars\u001b[0m\u001b[1;33m.\u001b[0m\u001b[0mperiod_context_re\u001b[0m\u001b[1;33m(\u001b[0m\u001b[1;33m)\u001b[0m\u001b[1;33m.\u001b[0m\u001b[0mfinditer\u001b[0m\u001b[1;33m(\u001b[0m\u001b[0mtext\u001b[0m\u001b[1;33m)\u001b[0m\u001b[1;33m:\u001b[0m\u001b[1;33m\u001b[0m\u001b[1;33m\u001b[0m\u001b[0m\n\u001b[0m\u001b[0;32m   1336\u001b[0m             \u001b[0mcontext\u001b[0m \u001b[1;33m=\u001b[0m \u001b[0mmatch\u001b[0m\u001b[1;33m.\u001b[0m\u001b[0mgroup\u001b[0m\u001b[1;33m(\u001b[0m\u001b[1;33m)\u001b[0m \u001b[1;33m+\u001b[0m \u001b[0mmatch\u001b[0m\u001b[1;33m.\u001b[0m\u001b[0mgroup\u001b[0m\u001b[1;33m(\u001b[0m\u001b[1;34m'after_tok'\u001b[0m\u001b[1;33m)\u001b[0m\u001b[1;33m\u001b[0m\u001b[1;33m\u001b[0m\u001b[0m\n\u001b[0;32m   1337\u001b[0m             \u001b[1;32mif\u001b[0m \u001b[0mself\u001b[0m\u001b[1;33m.\u001b[0m\u001b[0mtext_contains_sentbreak\u001b[0m\u001b[1;33m(\u001b[0m\u001b[0mcontext\u001b[0m\u001b[1;33m)\u001b[0m\u001b[1;33m:\u001b[0m\u001b[1;33m\u001b[0m\u001b[1;33m\u001b[0m\u001b[0m\n",
      "\u001b[1;31mTypeError\u001b[0m: expected string or bytes-like object"
     ]
    }
   ],
   "source": [
    "inggris = open('walden.txt', 'rU').read\n",
    "artikel_inggris = sent_tokenize(inggris)\n",
    "artikel_inggris= [word.lower() for word in arikel_inggris]\n",
    "artikel_inggris[:]"
   ]
  },
  {
   "cell_type": "code",
   "execution_count": 41,
   "metadata": {},
   "outputs": [
    {
     "name": "stderr",
     "output_type": "stream",
     "text": [
      "d:\\dts(beasiswa digitalent)\\miniconda3\\lib\\site-packages\\ipykernel_launcher.py:1: DeprecationWarning: 'U' mode is deprecated\n",
      "  \"\"\"Entry point for launching an IPython kernel.\n"
     ]
    },
    {
     "data": {
      "text/plain": [
       "['ada\\nadalah\\nadanya\\nadapun\\nagak\\nagaknya\\nagar\\nakan\\nakankah\\nakhir\\nakhiri\\nakhirnya\\naku\\nakulah\\namat\\namatlah\\nanda\\nandalah\\nantar\\nantara\\nantaranya\\napa\\napaan\\napabila\\napakah\\napalagi\\napatah\\nartinya\\nasal\\nasalkan\\natas\\natau\\nataukah\\nataupun\\nawal\\nawalnya\\nbagai\\nbagaikan\\nbagaimana\\nbagaimanakah\\nbagaimanapun\\nbagi\\nbagian\\nbahkan\\nbahwa\\nbahwasanya\\nbaik\\nbakal\\nbakalan\\nbalik\\nbanyak\\nbapak\\nbaru\\nbawah\\nbeberapa\\nbegini\\nbeginian\\nbeginikah\\nbeginilah\\nbegitu\\nbegitukah\\nbegitulah\\nbegitupun\\nbekerja\\nbelakang\\nbelakangan\\nbelum\\nbelumlah\\nbenar\\nbenarkah\\nbenarlah\\nberada\\nberakhir\\nberakhirlah\\nberakhirnya\\nberapa\\nberapakah\\nberapalah\\nberapapun\\nberarti\\nberawal\\nberbagai\\nberdatangan\\nberi\\nberikan\\nberikut\\nberikutnya\\nberjumlah\\nberkali-kali\\nberkata\\nberkehendak\\nberkeinginan\\nberkenaan\\nberlainan\\nberlalu\\nberlangsung\\nberlebihan\\nbermacam\\nbermacam-macam\\nbermaksud\\nbermula\\nbersama\\nbersama-sama\\nbersiap\\nbersiap-siap\\nbertanya\\nbertanya-tanya\\nberturut\\nberturut-turut\\nbertutur\\nberujar\\nberupa\\nbesar\\nbetul\\nbetulkah\\nbiasa\\nbiasanya\\nbila\\nbilakah\\nbisa\\nbisakah\\nboleh\\nbolehkah\\nbolehlah\\nbuat\\nbukan\\nbukankah\\nbukanlah\\nbukannya\\nbulan\\nbung\\ncara\\ncaranya\\ncukup\\ncukupkah\\ncukuplah\\ncuma\\ndahulu\\ndalam\\ndan\\ndapat\\ndari\\ndaripada\\ndatang\\ndekat\\ndemi\\ndemikian\\ndemikianlah\\ndengan\\ndepan\\ndi\\ndia\\ndiakhiri\\ndiakhirinya\\ndialah\\ndiantara\\ndiantaranya\\ndiberi\\ndiberikan\\ndiberikannya\\ndibuat\\ndibuatnya\\ndidapat\\ndidatangkan\\ndigunakan\\ndiibaratkan\\ndiibaratkannya\\ndiingat\\ndiingatkan\\ndiinginkan\\ndijawab\\ndijelaskan\\ndijelaskannya\\ndikarenakan\\ndikatakan\\ndikatakannya\\ndikerjakan\\ndiketahui\\ndiketahuinya\\ndikira\\ndilakukan\\ndilalui\\ndilihat\\ndimaksud\\ndimaksudkan\\ndimaksudkannya\\ndimaksudnya\\ndiminta\\ndimintai\\ndimisalkan\\ndimulai\\ndimulailah\\ndimulainya\\ndimungkinkan\\ndini\\ndipastikan\\ndiperbuat\\ndiperbuatnya\\ndipergunakan\\ndiperkirakan\\ndiperlihatkan\\ndiperlukan\\ndiperlukannya\\ndipersoalkan\\ndipertanyakan\\ndipunyai\\ndiri\\ndirinya\\ndisampaikan\\ndisebut\\ndisebutkan\\ndisebutkannya\\ndisini\\ndisinilah\\nditambahkan\\nditandaskan\\nditanya\\nditanyai\\nditanyakan\\nditegaskan\\nditujukan\\nditunjuk\\nditunjuki\\nditunjukkan\\nditunjukkannya\\nditunjuknya\\ndituturkan\\ndituturkannya\\ndiucapkan\\ndiucapkannya\\ndiungkapkan\\ndong\\ndua\\ndulu\\nempat\\nenggak\\nenggaknya\\nentah\\nentahlah\\nguna\\ngunakan\\nhal\\nhampir\\nhanya\\nhanyalah\\nhari\\nharus\\nharuslah\\nharusnya\\nhendak\\nhendaklah\\nhendaknya\\nhingga\\nia\\nialah\\nibarat\\nibaratkan\\nibaratnya\\nibu\\nikut\\ningat\\ningat-ingat\\ningin\\ninginkah\\ninginkan\\nini\\ninikah\\ninilah\\nitu\\nitukah\\nitulah\\njadi\\njadilah\\njadinya\\njangan\\njangankan\\njanganlah\\njauh\\njawab\\njawaban\\njawabnya\\njelas\\njelaskan\\njelaslah\\njelasnya\\njika\\njikalau\\njuga\\njumlah\\njumlahnya\\njustru\\nkala\\nkalau\\nkalaulah\\nkalaupun\\nkalian\\nkami\\nkamilah\\nkamu\\nkamulah\\nkan\\nkapan\\nkapankah\\nkapanpun\\nkarena\\nkarenanya\\nkasus\\nkata\\nkatakan\\nkatakanlah\\nkatanya\\nke\\nkeadaan\\nkebetulan\\nkecil\\nkedua\\nkeduanya\\nkeinginan\\nkelamaan\\nkelihatan\\nkelihatannya\\nkelima\\nkeluar\\nkembali\\nkemudian\\nkemungkinan\\nkemungkinannya\\nkenapa\\nkepada\\nkepadanya\\nkesampaian\\nkeseluruhan\\nkeseluruhannya\\nketerlaluan\\nketika\\nkhususnya\\nkini\\nkinilah\\nkira\\nkira-kira\\nkiranya\\nkita\\nkitalah\\nkok\\nkurang\\nlagi\\nlagian\\nlah\\nlain\\nlainnya\\nlalu\\nlama\\nlamanya\\nlanjut\\nlanjutnya\\nlebih\\nlewat\\nlima\\nluar\\nmacam\\nmaka\\nmakanya\\nmakin\\nmalah\\nmalahan\\nmampu\\nmampukah\\nmana\\nmanakala\\nmanalagi\\nmasa\\nmasalah\\nmasalahnya\\nmasih\\nmasihkah\\nmasing\\nmasing-masing\\nmau\\nmaupun\\nmelainkan\\nmelakukan\\nmelalui\\nmelihat\\nmelihatnya\\nmemang\\nmemastikan\\nmemberi\\nmemberikan\\nmembuat\\nmemerlukan\\nmemihak\\nmeminta\\nmemintakan\\nmemisalkan\\nmemperbuat\\nmempergunakan\\nmemperkirakan\\nmemperlihatkan\\nmempersiapkan\\nmempersoalkan\\nmempertanyakan\\nmempunyai\\nmemulai\\nmemungkinkan\\nmenaiki\\nmenambahkan\\nmenandaskan\\nmenanti\\nmenanti-nanti\\nmenantikan\\nmenanya\\nmenanyai\\nmenanyakan\\nmendapat\\nmendapatkan\\nmendatang\\nmendatangi\\nmendatangkan\\nmenegaskan\\nmengakhiri\\nmengapa\\nmengatakan\\nmengatakannya\\nmengenai\\nmengerjakan\\nmengetahui\\nmenggunakan\\nmenghendaki\\nmengibaratkan\\nmengibaratkannya\\nmengingat\\nmengingatkan\\nmenginginkan\\nmengira\\nmengucapkan\\nmengucapkannya\\nmengungkapkan\\nmenjadi\\nmenjawab\\nmenjelaskan\\nmenuju\\nmenunjuk\\nmenunjuki\\nmenunjukkan\\nmenunjuknya\\nmenurut\\nmenuturkan\\nmenyampaikan\\nmenyangkut\\nmenyatakan\\nmenyebutkan\\nmenyeluruh\\nmenyiapkan\\nmerasa\\nmereka\\nmerekalah\\nmerupakan\\nmeski\\nmeskipun\\nmeyakini\\nmeyakinkan\\nminta\\nmirip\\nmisal\\nmisalkan\\nmisalnya\\nmula\\nmulai\\nmulailah\\nmulanya\\nmungkin\\nmungkinkah\\nnah\\nnaik\\nnamun\\nnanti\\nnantinya\\nnyaris\\nnyatanya\\noleh\\nolehnya\\npada\\npadahal\\npadanya\\npak\\npaling\\npanjang\\npantas\\npara\\npasti\\npastilah\\npenting\\npentingnya\\nper\\npercuma\\nperlu\\nperlukah\\nperlunya\\npernah\\npersoalan\\npertama\\npertama-tama\\npertanyaan\\npertanyakan\\npihak\\npihaknya\\npukul\\npula\\npun\\npunya\\nrasa\\nrasanya\\nrata\\nrupanya\\nsaat\\nsaatnya\\nsaja\\nsajalah\\nsaling\\nsama\\nsama-sama\\nsambil\\nsampai\\nsampai-sampai\\nsampaikan\\nsana\\nsangat\\nsangatlah\\nsatu\\nsaya\\nsayalah\\nse\\nsebab\\nsebabnya\\nsebagai\\nsebagaimana\\nsebagainya\\nsebagian\\nsebaik\\nsebaik-baiknya\\nsebaiknya\\nsebaliknya\\nsebanyak\\nsebegini\\nsebegitu\\nsebelum\\nsebelumnya\\nsebenarnya\\nseberapa\\nsebesar\\nsebetulnya\\nsebisanya\\nsebuah\\nsebut\\nsebutlah\\nsebutnya\\nsecara\\nsecukupnya\\nsedang\\nsedangkan\\nsedemikian\\nsedikit\\nsedikitnya\\nseenaknya\\nsegala\\nsegalanya\\nsegera\\nseharusnya\\nsehingga\\nseingat\\nsejak\\nsejauh\\nsejenak\\nsejumlah\\nsekadar\\nsekadarnya\\nsekali\\nsekali-kali\\nsekalian\\nsekaligus\\nsekalipun\\nsekarang\\nsekarang\\nsekecil\\nseketika\\nsekiranya\\nsekitar\\nsekitarnya\\nsekurang-kurangnya\\nsekurangnya\\nsela\\nselain\\nselaku\\nselalu\\nselama\\nselama-lamanya\\nselamanya\\nselanjutnya\\nseluruh\\nseluruhnya\\nsemacam\\nsemakin\\nsemampu\\nsemampunya\\nsemasa\\nsemasih\\nsemata\\nsemata-mata\\nsemaunya\\nsementara\\nsemisal\\nsemisalnya\\nsempat\\nsemua\\nsemuanya\\nsemula\\nsendiri\\nsendirian\\nsendirinya\\nseolah\\nseolah-olah\\nseorang\\nsepanjang\\nsepantasnya\\nsepantasnyalah\\nseperlunya\\nseperti\\nsepertinya\\nsepihak\\nsering\\nseringnya\\nserta\\nserupa\\nsesaat\\nsesama\\nsesampai\\nsesegera\\nsesekali\\nseseorang\\nsesuatu\\nsesuatunya\\nsesudah\\nsesudahnya\\nsetelah\\nsetempat\\nsetengah\\nseterusnya\\nsetiap\\nsetiba\\nsetibanya\\nsetidak-tidaknya\\nsetidaknya\\nsetinggi\\nseusai\\nsewaktu\\nsiap\\nsiapa\\nsiapakah\\nsiapapun\\nsini\\nsinilah\\nsoal\\nsoalnya\\nsuatu\\nsudah\\nsudahkah\\nsudahlah\\nsupaya\\ntadi\\ntadinya\\ntahu\\ntahun\\ntak\\ntambah\\ntambahnya\\ntampak\\ntampaknya\\ntandas\\ntandasnya\\ntanpa\\ntanya\\ntanyakan\\ntanyanya\\ntapi\\ntegas\\ntegasnya\\ntelah\\ntempat\\ntengah\\ntentang\\ntentu\\ntentulah\\ntentunya\\ntepat\\nterakhir\\nterasa\\nterbanyak\\nterdahulu\\nterdapat\\nterdiri\\nterhadap\\nterhadapnya\\nteringat\\nteringat-ingat\\nterjadi\\nterjadilah\\nterjadinya\\nterkira\\nterlalu\\nterlebih\\nterlihat\\ntermasuk\\nternyata\\ntersampaikan\\ntersebut\\ntersebutlah\\ntertentu\\ntertuju\\nterus\\nterutama\\ntetap\\ntetapi\\ntiap\\ntiba\\ntiba-tiba\\ntidak\\ntidakkah\\ntidaklah\\ntiga\\ntinggi\\ntoh\\ntunjuk\\nturut\\ntutur\\ntuturnya\\nucap\\nucapnya\\nujar\\nujarnya\\numum\\numumnya\\nungkap\\nungkapnya\\nuntuk\\nusah\\nusai\\nwaduh\\nwah\\nwahai\\nwaktu\\nwaktunya\\nwalau\\nwalaupun\\nwong\\nyaitu\\nyakin\\nyakni\\nyang']"
      ]
     },
     "execution_count": 41,
     "metadata": {},
     "output_type": "execute_result"
    }
   ],
   "source": [
    "arti = open('stopword_indo.txt', 'rU').read()\n",
    "arti_indo = sent_tokenize(arti)\n",
    "arti_indo= [word.lower() for word in arti_indo]\n",
    "arti_indo[:]"
   ]
  },
  {
   "cell_type": "code",
   "execution_count": 58,
   "metadata": {},
   "outputs": [
    {
     "data": {
      "text/plain": [
       "'Stopwords Corpus  This corpus contains lists of stop words for several languages.  These are high-frequency grammatical words which are usually ignored in text retrieval applications.  They were obtained from: http://anoncvs.postgresql.org/cvsweb.cgi/pgsql/src/backend/snowball/stopwords/  The stop words for the Romanian language were obtained from: http://arlc.ro/resources/  The English list has been augmented https://github.com/nltk/nltk_data/issues/22  The German list has been corrected https://github.com/nltk/nltk_data/pull/49  A Kazakh list has been added https://github.com/nltk/nltk_data/pull/52  A Nepali list has been added https://github.com/nltk/nltk_data/pull/83  An Azerbaijani list has been added https://github.com/nltk/nltk_data/pull/100  A Greek list has been added https://github.com/nltk/nltk_data/pull/103  An Indonesian list has been added https://github.com/nltk/nltk_data/pull/112 '"
      ]
     },
     "execution_count": 58,
     "metadata": {},
     "output_type": "execute_result"
    }
   ],
   "source": [
    "from nltk.corpus import stopwords\n",
    "stopwords.readme().replace('\\n', ' ')"
   ]
  },
  {
   "cell_type": "code",
   "execution_count": 57,
   "metadata": {},
   "outputs": [],
   "source": [
    "from nltk.tokenize import word_tokenize\n",
    "from nltk.text import Text\n",
    "\n",
    "arti.replace('\\n', ' ')\n",
    "arti = word_tokenize(arti)"
   ]
  },
  {
   "cell_type": "code",
   "execution_count": 59,
   "metadata": {},
   "outputs": [],
   "source": [
    "def detect (text):\n",
    "    language_rations = {}\n",
    "    \n",
    "    stopwords_set_id = set(arti)\n",
    "    stopwords_set_en = set(stopwords.words('english'))\n",
    "    \n",
    "    common_id= test_words_set.intersection(stopwords_set_id)\n",
    "    common_en= test_words_set.intersection(stopwords_set_en)\n",
    "    \n",
    "    if len(common_id)>len(common_en):\n",
    "        print('Indonesian')\n",
    "    else:\n",
    "        print('english')\n",
    "            "
   ]
  },
  {
   "cell_type": "code",
   "execution_count": 62,
   "metadata": {},
   "outputs": [],
   "source": [
    "test_words_set_wal = set(token_indo)"
   ]
  },
  {
   "cell_type": "code",
   "execution_count": 63,
   "metadata": {},
   "outputs": [
    {
     "name": "stdout",
     "output_type": "stream",
     "text": [
      "Indonesian\n"
     ]
    }
   ],
   "source": [
    "detect(test_words_set_wal)"
   ]
  },
  {
   "cell_type": "code",
   "execution_count": null,
   "metadata": {},
   "outputs": [],
   "source": []
  }
 ],
 "metadata": {
  "kernelspec": {
   "display_name": "Python 3",
   "language": "python",
   "name": "python3"
  },
  "language_info": {
   "codemirror_mode": {
    "name": "ipython",
    "version": 3
   },
   "file_extension": ".py",
   "mimetype": "text/x-python",
   "name": "python",
   "nbconvert_exporter": "python",
   "pygments_lexer": "ipython3",
   "version": "3.7.3"
  }
 },
 "nbformat": 4,
 "nbformat_minor": 2
}
