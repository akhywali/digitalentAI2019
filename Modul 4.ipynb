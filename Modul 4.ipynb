{
 "cells": [
  {
   "cell_type": "markdown",
   "metadata": {},
   "source": [
    "### LAB 4.1.3.6\n",
    "\n",
    "Scenario\n",
    "\n",
    "Your task is to write and test a function which takes one argument (a year) and returns True if the year is a leap year, or False otherwise.\n",
    "\n",
    "The seed of the function is already sown in the skeleton code in the editor.\n",
    "\n",
    "Note: we've also prepared a short testing code, which you can use to test your function.\n",
    "\n",
    "The code uses two lists - one with the test data, and the other containing the expected results. The code will tell you if any of your results are invalid"
   ]
  },
  {
   "cell_type": "code",
   "execution_count": 8,
   "metadata": {},
   "outputs": [
    {
     "name": "stdout",
     "output_type": "stream",
     "text": [
      "1900 ->OK\n",
      "2000 ->OK\n",
      "2016 ->OK\n",
      "1987 ->OK\n"
     ]
    },
    {
     "data": {
      "text/plain": [
       "0"
      ]
     },
     "execution_count": 8,
     "metadata": {},
     "output_type": "execute_result"
    }
   ],
   "source": [
    "import os\n",
    "import time\n",
    "\n",
    "\n",
    "\n",
    "def isYearLeap(year):\n",
    "   if year%4==0:\n",
    "       if year%100==0: \n",
    "            if year%400==0: return True\n",
    "            else: return False\n",
    "       else: return True\n",
    "   return False\n",
    "\n",
    "testData = [1900, 2000, 2016, 1987]\n",
    "testResults = [False, True, True, False]\n",
    "\n",
    "for i in range(len(testData)):\n",
    "\tyr = testData[i]\n",
    "\tprint(yr,\"->\",end=\"\")\n",
    "\tresult = isYearLeap(yr)\n",
    "\tif result == testResults[i]:\n",
    "\t\tprint(\"OK\")\n",
    "\telse:\n",
    "\t\tprint(\"Failed\")\n",
    "time.sleep(1)\n",
    "os.system('cls')"
   ]
  },
  {
   "cell_type": "markdown",
   "metadata": {},
   "source": [
    "### Lab 4.1.3.7\n",
    "Your task is to write and test a function which takes two arguments (a year and a month) and returns the number of days for the given month/year pair (while only February is sensitive to the year value, your function should be universal).\n",
    "\n",
    "The initial part of the function is ready. Now, convince the function to return None if its arguments don't make sense.\n",
    "\n",
    "Of course, you can (and should) use the previously written and tested function (LAB 4.1.3.6). It may be very helpful. We encourage you to use a list filled with the months' lengths. You can create it inside the function - this trick will significantly shorten the code.\n",
    "\n",
    "We've prepared a testing code. Expand it to include more test cases."
   ]
  },
  {
   "cell_type": "code",
   "execution_count": 1,
   "metadata": {},
   "outputs": [
    {
     "name": "stdout",
     "output_type": "stream",
     "text": [
      "1900 2 ->OK\n",
      "2000 2 ->OK\n",
      "2016 1 ->OK\n",
      "1987 11 ->OK\n"
     ]
    }
   ],
   "source": [
    "def isYearLeap(year):\n",
    "    if year%4==0:\n",
    "       if year%100==0: \n",
    "            if year%400==0: return True\n",
    "            else: return False\n",
    "       else: return True\n",
    "    return False\n",
    "\n",
    "def daysInMonth(year, month):\n",
    "    days=[31,28,31,30,31,30,31,31,30,31,30,31]\n",
    "    if isYearLeap(year)==True:\n",
    "        if month!=2: \n",
    "            return days[month-1]\n",
    "        else: \n",
    "            return days[month-1]+1\n",
    "    else: \n",
    "        return days[month-1]\n",
    "\n",
    "testYears = [1900, 2000, 2016, 1987]\n",
    "testMonths = [2, 2, 1, 11]\n",
    "testResults = [28, 29, 31, 30]\n",
    "for i in range(len(testYears)):\n",
    "\tyr = testYears[i]\n",
    "\tmo = testMonths[i]\n",
    "\tprint(yr, mo, \"->\", end=\"\")\n",
    "\tresult = daysInMonth(yr, mo)\n",
    "\tif result == testResults[i]:\n",
    "\t\tprint(\"OK\")\n",
    "\telse:\n",
    "\t\tprint(\"Failed\")"
   ]
  },
  {
   "cell_type": "markdown",
   "metadata": {},
   "source": [
    "### LAB 4.1.3.8\n",
    "\n",
    "Your task is to write and test a function which takes three arguments (a year, a month, and a day of the month) and returns the corresponding day of the year, or returns None if any of the arguments is invalid.\n",
    "\n",
    "Use the previously written and tested functions. Add some test cases to the code. This test is only a beginning."
   ]
  },
  {
   "cell_type": "code",
   "execution_count": null,
   "metadata": {},
   "outputs": [],
   "source": [
    "def isYearLeap(year):\n",
    "    if year%4==0:\n",
    "       if year%100==0: \n",
    "            if year%400==0: return True\n",
    "            else: return False\n",
    "       else: return True\n",
    "    return False\n",
    "\n",
    "def daysInMonth(year, month):\n",
    "    days=[31,28,31,30,31,30,31,31,30,31,30,31]\n",
    "    if isYearLeap(year)==True:\n",
    "        if month!=2: \n",
    "            return days[month-1]\n",
    "        else: \n",
    "            return days[month-1]+1\n",
    "    else: \n",
    "        return days[month-1]\n",
    "\n",
    "def dayOfYear(year, month, day):\n",
    "    if daysInMonth(year, month)==day:\n",
    "        return day\n",
    "    else: return None\n",
    "    \n",
    "print(dayOfYear(2000, 2, 28))"
   ]
  },
  {
   "cell_type": "markdown",
   "metadata": {},
   "source": [
    "### LAB 4.1.39\n",
    "A natural number is prime if it is greater than 1 and has no divisors other than 1 and itself.\n",
    "\n",
    "Complicated? Not at all. For example, 8 isn't a prime number, as you can divide it by 2 and 4 (we can't use divisors equal to 1 and 8, as the definition prohibits this).\n",
    "\n",
    "On the other hand, 7 is a prime number, as we can't find any legal divisors for it.\n",
    "\n",
    "Your task is to write a function checking whether a number is prime or not.\n",
    "\n",
    "The function:\n",
    "- is called isPrime;\n",
    "- takes one argument (the value to check)\n",
    "- returns True if the argument is a prime number, and False otherwise.\n",
    "\n",
    "Hint: try to divide the argument by all subsequent values (starting from 2) and check the remainder - if it's zero, your number cannot be a prime; think carefully about when you should stop the process.\n",
    "\n",
    "If you need to know the square root of any value, you can utilize the ** operator. Remember: the square root of x is the same as x0.5\n",
    "\n",
    "Complete the code in the editor.\n",
    "\n",
    "Run your code and check whether your output is the same as ours."
   ]
  },
  {
   "cell_type": "code",
   "execution_count": 3,
   "metadata": {},
   "outputs": [
    {
     "name": "stdout",
     "output_type": "stream",
     "text": [
      "2 3 5 7 11 13 17 19 \n"
     ]
    }
   ],
   "source": [
    "\n",
    "def isPrime(num):\n",
    "    if num<4: \n",
    "        return True\n",
    "    else:\n",
    "        for n in range(2,num+1):  #n=3\n",
    "            if n!=num: # 3!=21\n",
    "                if num%n!=0: #21%2!=0\n",
    "                    continue\n",
    "                else: return False\n",
    "            else: return True\n",
    "for i in range(1, 20):\n",
    "\tif isPrime(i + 1):\n",
    "\t\t\tprint(i + 1, end=\" \")\n",
    "print()"
   ]
  },
  {
   "cell_type": "markdown",
   "metadata": {},
   "source": [
    "### BMI"
   ]
  },
  {
   "cell_type": "code",
   "execution_count": null,
   "metadata": {},
   "outputs": [],
   "source": [
    "def bmi(weight, height):\n",
    "    return weight / height ** 2\n",
    "\n",
    "print(bmi(52.5, 1.65))"
   ]
  },
  {
   "cell_type": "code",
   "execution_count": null,
   "metadata": {},
   "outputs": [],
   "source": [
    "def bmi(weight, height):\n",
    "    if height < 1.0 or height > 2.5 or \\\n",
    "    weight < 20 or weight > 200:\n",
    "        return None\n",
    "    \n",
    "    return weight / height ** 2\n",
    "\n",
    "print(bmi(352.5, 1.65))"
   ]
  },
  {
   "cell_type": "markdown",
   "metadata": {},
   "source": [
    "### Triangle"
   ]
  },
  {
   "cell_type": "code",
   "execution_count": null,
   "metadata": {},
   "outputs": [],
   "source": [
    "def isItATriangle(a, b, c):\n",
    "    if a + b <= c:\n",
    "        return False\n",
    "    if b + c <= a:\n",
    "        return False\n",
    "    if c + a <= b:\n",
    "        return False\n",
    "    return True\n",
    "\n",
    "print(isItATriangle(1, 1, 1))\n",
    "print(isItATriangle(1, 1, 3))"
   ]
  },
  {
   "cell_type": "code",
   "execution_count": 6,
   "metadata": {},
   "outputs": [
    {
     "name": "stdout",
     "output_type": "stream",
     "text": [
      "Enter the first side's length: 3\n",
      "Enter the second side's length: 4\n",
      "Enter the third side's length: 2\n",
      "Congratulations - it can be a triangle.\n"
     ]
    }
   ],
   "source": [
    "def isItATriangle(a, b, c):\n",
    "    return a + b > c and b + c > a and c + a > b\n",
    "\n",
    "a = float(input(\"Enter the first side's length: \"))\n",
    "b = float(input(\"Enter the second side's length: \"))\n",
    "c = float(input(\"Enter the third side's length: \"))\n",
    "\n",
    "if isItATriangle(a, b, c):\n",
    "    print(\"Congratulations - it can be a triangle.\")\n",
    "else:\n",
    "    print(\"Sorry, it won't be a triangle.\")"
   ]
  },
  {
   "cell_type": "markdown",
   "metadata": {},
   "source": [
    "### Factorial"
   ]
  },
  {
   "cell_type": "code",
   "execution_count": null,
   "metadata": {},
   "outputs": [],
   "source": [
    "def factorialFun(n):\n",
    "    if n < 0:\n",
    "        return None\n",
    "    if n < 2:\n",
    "        return 1\n",
    "    \n",
    "    product = 1\n",
    "    for i in range(2, n + 1):\n",
    "        product *= i\n",
    "    return product\n",
    "\n",
    "for n in range(1, 6): # testing\n",
    "    print(n, factorialFun(n))\n",
    "\n"
   ]
  },
  {
   "cell_type": "markdown",
   "metadata": {},
   "source": [
    "### Fibonaci"
   ]
  },
  {
   "cell_type": "code",
   "execution_count": null,
   "metadata": {},
   "outputs": [],
   "source": [
    "def fib(n):\n",
    "    if n < 1:\n",
    "         return None\n",
    "    if n < 3:\n",
    "        return 1\n",
    "\n",
    "    elem1 = elem2 = 1\n",
    "    sum = 0\n",
    "    for i in range(3, n + 1):\n",
    "        sum = elem1 + elem2\n",
    "        elem1, elem2 = elem2, sum\n",
    "    return sum\n",
    "\n",
    "for n in range(1, 10): # testing\n",
    "    print(n, \"->\", fib(n))"
   ]
  },
  {
   "cell_type": "code",
   "execution_count": 7,
   "metadata": {},
   "outputs": [
    {
     "name": "stdout",
     "output_type": "stream",
     "text": [
      "1 -> 1\n",
      "2 -> 1\n",
      "3 -> 2\n",
      "4 -> 3\n",
      "5 -> 5\n",
      "6 -> 8\n",
      "7 -> 13\n",
      "8 -> 21\n",
      "9 -> 34\n"
     ]
    }
   ],
   "source": [
    "def fib(n):\n",
    "    if n < 1:\n",
    "        return None\n",
    "    if n < 3:\n",
    "        return 1\n",
    "    return fib(n - 1) + fib(n - 2)\n",
    "\n",
    "for n in range(1, 10): # testing\n",
    "    print(n, \"->\", fib(n))"
   ]
  },
  {
   "cell_type": "markdown",
   "metadata": {},
   "source": [
    "## 4.1.6 Tuples and Dictionaries¶\n",
    "\n",
    "List datanya bisa dirubah selama eksekusi program, sifatnya bernama mutable Sebaliknya tuple tidak bisa, sifatnya dinamakan immutable. Persamaannya keduanya sama-sama bisa menyimpan banyak nilai sekaligus dalam satu tipe data (sequence type)\n",
    "\n",
    "### Tuples\n",
    "\n",
    "Tuples are ordered and unchangeable (immutable) collections of data. They can be thought of as immutable lists. They are written in round brackets:\n"
   ]
  },
  {
   "cell_type": "code",
   "execution_count": null,
   "metadata": {},
   "outputs": [],
   "source": [
    "myTuple = (1, 2, True, \"a string\", (3, 4), [5, 6], None)\n",
    "print(myTuple)\n",
    "\n",
    "myList = [1, 2, True, \"a string\", (3, 4), [5, 6], None]\n",
    "print(myList)"
   ]
  },
  {
   "cell_type": "code",
   "execution_count": null,
   "metadata": {},
   "outputs": [],
   "source": [
    "tuple1 = (1, 2, 4, 8)\n",
    "tuple2 = 1., .5, .25, .125\n",
    "\n",
    "print(tuple1)\n",
    "print(tuple2)"
   ]
  },
  {
   "cell_type": "code",
   "execution_count": null,
   "metadata": {},
   "outputs": [],
   "source": [
    "emptyTuple = ()\n",
    "print(type(emptyTuple))"
   ]
  },
  {
   "cell_type": "code",
   "execution_count": null,
   "metadata": {},
   "outputs": [],
   "source": [
    "myTuple = (1, 10, 100, 1000)\n",
    "\n",
    "print(myTuple[0])\n",
    "print(myTuple[-1])\n",
    "print(myTuple[1:])\n",
    "print(myTuple[:-2])\n",
    "\n",
    "for elem in myTuple:\n",
    "    print(elem)"
   ]
  },
  {
   "cell_type": "code",
   "execution_count": null,
   "metadata": {},
   "outputs": [],
   "source": [
    "myTuple = (1, 10, 100, 1000)\n",
    "\n",
    "myTuple.append(10000)\n",
    "del myTuple[0]\n",
    "myTuple[1] = -10"
   ]
  },
  {
   "cell_type": "code",
   "execution_count": null,
   "metadata": {},
   "outputs": [],
   "source": [
    "myTuple = (1, 10, 100)\n",
    "\n",
    "t1 = myTuple + (1000, 10000)\n",
    "t2 = myTuple * 3\n",
    "\n",
    "print(len(t2))\n",
    "print(t1)\n",
    "print(t2)\n",
    "print(10 in myTuple)\n",
    "print(-10 not in myTuple)"
   ]
  },
  {
   "cell_type": "code",
   "execution_count": 9,
   "metadata": {},
   "outputs": [
    {
     "name": "stdout",
     "output_type": "stream",
     "text": [
      "(2,) (3, 123) (1,)\n"
     ]
    }
   ],
   "source": [
    "var = 123\n",
    "\n",
    "t1 = (1, )\n",
    "t2 = (2, )\n",
    "t3 = (3, var)\n",
    "\n",
    "t1, t2, t3 = t2, t3, t1\n",
    "\n",
    "print(t1, t2, t3)"
   ]
  },
  {
   "cell_type": "code",
   "execution_count": null,
   "metadata": {},
   "outputs": [],
   "source": [
    "# Example 1\n",
    "t1 = (1, 2, 3)\n",
    "for elem in t1:\n",
    "    print(elem)\n",
    "\n",
    "# Example 2\n",
    "t2 = (1, 2, 3, 4)\n",
    "print(5 in t2)\n",
    "print(5 not in t2)\n",
    "\n",
    "# Example 3\n",
    "t3 = (1, 2, 3, 5)\n",
    "print(len(t3))\n",
    "\n",
    "# Example 4\n",
    "t4 = t1 + t2\n",
    "t5 = t3 * 2\n",
    "\n",
    "print(t4)\n",
    "print(t5)"
   ]
  },
  {
   "cell_type": "markdown",
   "metadata": {},
   "source": [
    "\n",
    "### Dictionaries\n",
    "\n",
    "In Python's world, the word you look for is named a key. The word you get from the dictionary is called a value.\n",
    "\n",
    "Dictionaries are unordered, changeable (mutable), and indexed collections of data. (In Python 3.6x dictionaries have become ordered by default.\n",
    "\n",
    "This means that a dictionary is a set of key-value pairs. Note:\n",
    "\n",
    "   - each key must be unique - it's not possible to have more than one key of the same value;\n",
    "   - a key may be data of any type: it may be a number (integer or float), or even a string;\n",
    "   - a dictionary is not a list - a list contains a set of numbered values, while a dictionary holds pairs of values;\n",
    "   - the len() function works for dictionaries, too - it returns the numbers of key-value elements in the dictionary;\n",
    "   - a dictionary is a one-way tool - if you have an English-French dictionary, you can look for French equivalents of English terms, but not vice versa.\n",
    "\n"
   ]
  },
  {
   "cell_type": "code",
   "execution_count": null,
   "metadata": {},
   "outputs": [],
   "source": [
    "dict = {\"cat\" : \"chat\", \"dog\" : \"chien\", \"horse\" : \"cheval\"}\n",
    "phoneNumbers = {'boss' : 5551234567, 'Suzy' : 22657854310}\n",
    "emptyDictionary = {}\n",
    "\n",
    "print(dict)\n",
    "print(phoneNumbers)\n",
    "print(emptyDictionary)"
   ]
  },
  {
   "cell_type": "code",
   "execution_count": null,
   "metadata": {},
   "outputs": [],
   "source": [
    "print(dict['cat'])\n",
    "print(phoneNumbers['Suzy'])"
   ]
  },
  {
   "cell_type": "code",
   "execution_count": null,
   "metadata": {},
   "outputs": [],
   "source": [
    "dict = {\"cat\" : \"chat\", \"dog\" : \"chien\", \"horse\" : \"cheval\"}\n",
    "words = ['cat', 'lion', 'horse']\n",
    "\n",
    "for word in words:\n",
    "    if word in dict:\n",
    "        print(word, \"->\", dict[word])\n",
    "    else:\n",
    "        print(word, \"is not in dictionary\")"
   ]
  },
  {
   "cell_type": "code",
   "execution_count": null,
   "metadata": {},
   "outputs": [],
   "source": [
    "dict = {\"cat\" : \"chat\", \"dog\" : \"chien\", \"horse\" : \"cheval\"}\n",
    "\n",
    "for key in dict.keys():\n",
    "    print(key, \"->\", dict[key])"
   ]
  },
  {
   "cell_type": "code",
   "execution_count": null,
   "metadata": {},
   "outputs": [],
   "source": [
    "for key in sorted(dict.keys()):\n",
    "    print(key, \"->\", dict[key])"
   ]
  },
  {
   "cell_type": "markdown",
   "metadata": {},
   "source": [
    "Your task is to write a simple program which pretends to play tic-tac-toe with the user. To make it all easier for you, we've decided to simplify the game. Here are our assumptions:\n",
    "\n",
    "    the computer (i.e., your program) should play the game using 'X's;\n",
    "    the user (e.g., you) should play the game using 'O's;\n",
    "    the first move belongs to the computer - it always puts its first 'X' in the middle of the board;\n",
    "    all the squares are numbered row by row starting with 1 (see the example session below for reference)\n",
    "    the user inputs their move by entering the number of the square they choose - the number must be valid, i.e., it must be an integer, it must be greater than 0 and less than 10, and it cannot point to a field which is already occupied;\n",
    "    the program checks if the game is over - there are four possible verdicts: the game should continue, or the game ends with a tie, your win, or the computer's win;\n",
    "    the computer responds with its move and the check is repeated;\n",
    "    don't implement any form of artificial intelligence - a random field choice made by the computer is good enough for the game.\n",
    "\n",
    "The example session with the program may look as follows:\n",
    "+-------+-------+-------+\n",
    "|       |       |       |\n",
    "|   1   |   2   |   3   |\n",
    "|       |       |       |\n",
    "+-------+-------+-------+\n",
    "|       |       |       |\n",
    "|   4   |   X   |   6   |\n",
    "|       |       |       |\n",
    "+-------+-------+-------+\n",
    "|       |       |       |\n",
    "|   7   |   8   |   9   |\n",
    "|       |       |       |\n",
    "+-------+-------+-------+\n",
    "Enter your move: 1\n",
    "+-------+-------+-------+\n",
    "|       |       |       |\n",
    "|   O   |   2   |   3   |\n",
    "|       |       |       |\n",
    "+-------+-------+-------+\n",
    "|       |       |       |\n",
    "|   4   |   X   |   6   |\n",
    "|       |       |       |\n",
    "+-------+-------+-------+\n",
    "|       |       |       |\n",
    "|   7   |   8   |   9   |\n",
    "|       |       |       |\n",
    "+-------+-------+-------+\n",
    "+-------+-------+-------+\n",
    "|       |       |       |\n",
    "|   O   |   X   |   3   |\n",
    "|       |       |       |\n",
    "+-------+-------+-------+\n",
    "|       |       |       |\n",
    "|   4   |   X   |   6   |\n",
    "|       |       |       |\n",
    "+-------+-------+-------+\n",
    "|       |       |       |\n",
    "|   7   |   8   |   9   |\n",
    "|       |       |       |\n",
    "+-------+-------+-------+\n",
    "Enter your move: 8\n",
    "+-------+-------+-------+\n",
    "|       |       |       |\n",
    "|   O   |   X   |   3   |\n",
    "|       |       |       |\n",
    "+-------+-------+-------+\n",
    "|       |       |       |\n",
    "|   4   |   X   |   6   |\n",
    "|       |       |       |\n",
    "+-------+-------+-------+\n",
    "|       |       |       |\n",
    "|   7   |   O   |   9   |\n",
    "|       |       |       |\n",
    "+-------+-------+-------+\n",
    "+-------+-------+-------+\n",
    "|       |       |       |\n",
    "|   O   |   X   |   3   |\n",
    "|       |       |       |\n",
    "+-------+-------+-------+\n",
    "|       |       |       |\n",
    "|   4   |   X   |   X   |\n",
    "|       |       |       |\n",
    "+-------+-------+-------+\n",
    "|       |       |       |\n",
    "|   7   |   O   |   9   |\n",
    "|       |       |       |\n",
    "+-------+-------+-------+\n",
    "Enter your move: 4\n",
    "+-------+-------+-------+\n",
    "|       |       |       |\n",
    "|   O   |   X   |   3   |\n",
    "|       |       |       |\n",
    "+-------+-------+-------+\n",
    "|       |       |       |\n",
    "|   O   |   X   |   X   |\n",
    "|       |       |       |\n",
    "+-------+-------+-------+\n",
    "|       |       |       |\n",
    "|   7   |   O   |   9   |\n",
    "|       |       |       |\n",
    "+-------+-------+-------+\n",
    "+-------+-------+-------+\n",
    "|       |       |       |\n",
    "|   O   |   X   |   X   |\n",
    "|       |       |       |\n",
    "+-------+-------+-------+\n",
    "|       |       |       |\n",
    "|   O   |   X   |   X   |\n",
    "|       |       |       |\n",
    "+-------+-------+-------+\n",
    "|       |       |       |\n",
    "|   7   |   O   |   9   |\n",
    "|       |       |       |\n",
    "+-------+-------+-------+\n",
    "Enter your move: 7\n",
    "+-------+-------+-------+\n",
    "|       |       |       |\n",
    "|   O   |   X   |   X   |\n",
    "|       |       |       |\n",
    "+-------+-------+-------+\n",
    "|       |       |       |\n",
    "|   O   |   X   |   X   |\n",
    "|       |       |       |\n",
    "+-------+-------+-------+\n",
    "|       |       |       |\n",
    "|   O   |   O   |   9   |\n",
    "|       |       |       |\n",
    "+-------+-------+-------+\n",
    "You won!\n",
    "\n",
    "Requirements\n",
    "\n",
    "Implement the following features:\n",
    "the board should be stored as a three-element list, while each element is another three-element list (the inner lists represent rows) so that all of the squares may be accessed using the following syntax:\n",
    "- board[row][column]\n",
    "- each of the inner list's elements can contain 'O', 'X', or a digit representing the square's number (such a square is considered free)\n",
    "- the board's appearance should be exactly the same as the one presented in the example.\n",
    "- implement the functions defined for you in the editor.\n",
    "\n",
    "\n",
    "Drawing a random integer number can be done by utilizing a Python function called randrange(). The example program below shows how to use it (the program prints ten random numbers from 0 to 8).\n",
    "\n",
    "Note: the from-import instruction provides an access to the randrange function defined within an external Python module callled random.\n",
    "from random import randrange\n",
    "\n",
    " for i in range(10):\n",
    " print(randrange(8))"
   ]
  },
  {
   "cell_type": "code",
   "execution_count": null,
   "metadata": {},
   "outputs": [],
   "source": [
    "def DisplayBoard(board):\n",
    "#\n",
    "# the function accepts one parameter containing the board's current status\n",
    "# and prints it out to the console\n",
    "#\n",
    "\n",
    "def EnterMove(board):\n",
    "#\n",
    "# the function accepts the board current status, asks the user about their move, \n",
    "# checks the input and updates the board according to the user's decision\n",
    "#\n",
    "\n",
    "def MakeListOfFreeFields(board):\n",
    "#\n",
    "# the function browses the board and builds a list of all the free squares; \n",
    "# the list consists of tuples, while each tuple is a pair of row and column numbers\n",
    "#\n",
    "\n",
    "def VictoryFor(board, sign):\n",
    "#\n",
    "# the function analyzes the board status in order to check if \n",
    "# the player using 'O's or 'X's has won the game\n",
    "#\n",
    "\n",
    "def DrawMove(board):\n",
    "#\n",
    "# the function draws the computer's move and updates the board\n",
    "#"
   ]
  },
  {
   "cell_type": "code",
   "execution_count": 23,
   "metadata": {},
   "outputs": [
    {
     "name": "stdout",
     "output_type": "stream",
     "text": [
      "4\n"
     ]
    }
   ],
   "source": [
    "def tes(inp=2, out=3):\n",
    "    return inp*out\n",
    "print(tes(out=2))\n",
    "    "
   ]
  },
  {
   "cell_type": "code",
   "execution_count": 24,
   "metadata": {},
   "outputs": [
    {
     "name": "stdout",
     "output_type": "stream",
     "text": [
      "4\n"
     ]
    }
   ],
   "source": [
    "def fun(x):\n",
    "    x+=1\n",
    "    return x\n",
    "x=2\n",
    "x=fun(x+1)\n",
    "print(x)"
   ]
  },
  {
   "cell_type": "code",
   "execution_count": 26,
   "metadata": {},
   "outputs": [
    {
     "name": "stdout",
     "output_type": "stream",
     "text": [
      "(2, 4)\n",
      "2\n"
     ]
    }
   ],
   "source": [
    "tup=(1,2,4,8)\n",
    "tup=tup[1:-1]\n",
    "print(tup)\n",
    "tup=tup[0]\n",
    "print(tup)"
   ]
  },
  {
   "cell_type": "code",
   "execution_count": 49,
   "metadata": {},
   "outputs": [
    {
     "name": "stdout",
     "output_type": "stream",
     "text": [
      "{'one': 'two', 'three': 'one'}\n",
      "{'one': 'two'}\n",
      "{}\n",
      "two\n"
     ]
    }
   ],
   "source": [
    "dct={'one':'two','three':'one','two':'three'}\n",
    "v=dct['one']\n",
    "\n",
    "for k in range(len(dct)):\n",
    "    dct.popitem()\n",
    "    print(dct)\n",
    "\n",
    "\n",
    "print(v)"
   ]
  },
  {
   "cell_type": "code",
   "execution_count": 62,
   "metadata": {},
   "outputs": [
    {
     "name": "stdout",
     "output_type": "stream",
     "text": [
      "['Marry', 'had', 'a', 'lamb']\n",
      "['Marry', 'had', 'a', 'ram']\n",
      "None\n"
     ]
    }
   ],
   "source": [
    "listen=['Marry','had','a','little','lamb']\n",
    "def liste(lst):\n",
    "    \n",
    "    del lst[3]\n",
    "    print(lst)\n",
    "    lst[3]='ram'\n",
    "    print(lst)\n",
    "print(liste(listen))"
   ]
  },
  {
   "cell_type": "code",
   "execution_count": 64,
   "metadata": {},
   "outputs": [
    {
     "name": "stdout",
     "output_type": "stream",
     "text": [
      "2\n",
      "1\n"
     ]
    }
   ],
   "source": [
    "def any():\n",
    "    print(var + 1)\n",
    "var=1\n",
    "any()\n",
    "print(var)"
   ]
  },
  {
   "cell_type": "code",
   "execution_count": 66,
   "metadata": {},
   "outputs": [
    {
     "ename": "TypeError",
     "evalue": "'tuple' object does not support item assignment",
     "output_type": "error",
     "traceback": [
      "\u001b[1;31m---------------------------------------------------------------------------\u001b[0m",
      "\u001b[1;31mTypeError\u001b[0m                                 Traceback (most recent call last)",
      "\u001b[1;32m<ipython-input-66-45b80de9a3db>\u001b[0m in \u001b[0;36m<module>\u001b[1;34m\u001b[0m\n\u001b[0;32m      1\u001b[0m \u001b[0mtup\u001b[0m\u001b[1;33m=\u001b[0m\u001b[1;33m(\u001b[0m\u001b[1;36m1\u001b[0m\u001b[1;33m,\u001b[0m\u001b[1;36m2\u001b[0m\u001b[1;33m,\u001b[0m\u001b[1;36m3\u001b[0m\u001b[1;33m)\u001b[0m\u001b[1;33m\u001b[0m\u001b[1;33m\u001b[0m\u001b[0m\n\u001b[1;32m----> 2\u001b[1;33m \u001b[0mtup\u001b[0m\u001b[1;33m[\u001b[0m\u001b[1;36m3\u001b[0m\u001b[1;33m]\u001b[0m\u001b[1;33m=\u001b[0m\u001b[0mtup\u001b[0m\u001b[1;33m[\u001b[0m\u001b[1;36m1\u001b[0m\u001b[1;33m]\u001b[0m\u001b[1;33m+\u001b[0m\u001b[0mtup\u001b[0m\u001b[1;33m[\u001b[0m\u001b[1;36m0\u001b[0m\u001b[1;33m]\u001b[0m\u001b[1;33m\u001b[0m\u001b[1;33m\u001b[0m\u001b[0m\n\u001b[0m\u001b[0;32m      3\u001b[0m \u001b[0mprint\u001b[0m\u001b[1;33m(\u001b[0m\u001b[0mtup\u001b[0m\u001b[1;33m)\u001b[0m\u001b[1;33m\u001b[0m\u001b[1;33m\u001b[0m\u001b[0m\n",
      "\u001b[1;31mTypeError\u001b[0m: 'tuple' object does not support item assignment"
     ]
    }
   ],
   "source": [
    "tup=(1,2,3)\n",
    "tup[3]=tup[1]+tup[0]\n",
    "print(tup)"
   ]
  },
  {
   "cell_type": "code",
   "execution_count": 72,
   "metadata": {},
   "outputs": [
    {
     "ename": "TypeError",
     "evalue": "unsupported operand type(s) for +: 'NoneType' and 'int'",
     "output_type": "error",
     "traceback": [
      "\u001b[1;31m---------------------------------------------------------------------------\u001b[0m",
      "\u001b[1;31mTypeError\u001b[0m                                 Traceback (most recent call last)",
      "\u001b[1;32m<ipython-input-72-b1934c6558f4>\u001b[0m in \u001b[0;36m<module>\u001b[1;34m\u001b[0m\n\u001b[0;32m      3\u001b[0m     \u001b[1;32melse\u001b[0m\u001b[1;33m:\u001b[0m \u001b[1;32mreturn\u001b[0m\u001b[1;33m\u001b[0m\u001b[1;33m\u001b[0m\u001b[0m\n\u001b[0;32m      4\u001b[0m \u001b[1;33m\u001b[0m\u001b[0m\n\u001b[1;32m----> 5\u001b[1;33m \u001b[0mprint\u001b[0m\u001b[1;33m(\u001b[0m\u001b[0mfun\u001b[0m\u001b[1;33m(\u001b[0m\u001b[1;36m1\u001b[0m\u001b[1;33m)\u001b[0m\u001b[1;33m+\u001b[0m\u001b[1;36m1\u001b[0m\u001b[1;33m)\u001b[0m\u001b[1;33m\u001b[0m\u001b[1;33m\u001b[0m\u001b[0m\n\u001b[0m",
      "\u001b[1;31mTypeError\u001b[0m: unsupported operand type(s) for +: 'NoneType' and 'int'"
     ]
    }
   ],
   "source": []
  },
  {
   "cell_type": "code",
   "execution_count": null,
   "metadata": {},
   "outputs": [],
   "source": [
    "import os\n",
    "\n",
    "os.system('cls')"
   ]
  }
 ],
 "metadata": {
  "kernelspec": {
   "display_name": "Python 3",
   "language": "python",
   "name": "python3"
  },
  "language_info": {
   "codemirror_mode": {
    "name": "ipython",
    "version": 3
   },
   "file_extension": ".py",
   "mimetype": "text/x-python",
   "name": "python",
   "nbconvert_exporter": "python",
   "pygments_lexer": "ipython3",
   "version": "3.7.3"
  }
 },
 "nbformat": 4,
 "nbformat_minor": 2
}
