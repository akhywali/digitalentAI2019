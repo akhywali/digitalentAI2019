{
 "cells": [
  {
   "cell_type": "markdown",
   "metadata": {},
   "source": [
    "##### Soal 1\n"
   ]
  },
  {
   "cell_type": "code",
   "execution_count": 7,
   "metadata": {},
   "outputs": [
    {
     "name": "stdout",
     "output_type": "stream",
     "text": [
      "701408733\n",
      "433494437\n"
     ]
    }
   ],
   "source": [
    "def fib(n):\n",
    "    return round((((1 + (5 ** 0.5)) / 2)** n / (5 ** 0.5)))\n",
    "\n",
    "n = int(input())\n",
    "if n < 1:\n",
    "    print(\"Bilangan harus lebih dari 1\")\n",
    "else:\n",
    "    x =[]\n",
    "    counter = 1\n",
    "    while counter <= n:\n",
    "        x.append(fib(counter))\n",
    "        if(fib(counter) >= n):\n",
    "            counter = n+1\n",
    "        else: counter+=1\n",
    "\n",
    "    result = list(filter(lambda x: x <n, x))[-1]\n",
    "    print(result)"
   ]
  },
  {
   "cell_type": "markdown",
   "metadata": {},
   "source": [
    "#### Soal 2"
   ]
  },
  {
   "cell_type": "code",
   "execution_count": 8,
   "metadata": {},
   "outputs": [
    {
     "name": "stdout",
     "output_type": "stream",
     "text": [
      "11\n",
      "***********\n",
      "**       **\n",
      "* *     * *\n",
      "*  *   *  *\n",
      "*   * *   *\n",
      "*    *    *\n",
      "*   * *   *\n",
      "*  *   *  *\n",
      "* *     * *\n",
      "**       **\n",
      "***********\n"
     ]
    }
   ],
   "source": [
    "def drawX(n):\n",
    " for baris in range(0, n):\n",
    "    for kolom in range(0, n):\n",
    "        if (baris == n - 1) or (baris == 0) or (baris == kolom) or (baris == n - 1 - kolom) or (kolom == 0) or (kolom == n - 1):\n",
    "            print(\"*\", end=\"\")\n",
    "        else:\n",
    "            print(\" \", end=\"\")\n",
    "    print(\"\")\n",
    "\n",
    "n = int(input())\n",
    "drawX(n)"
   ]
  },
  {
   "cell_type": "code",
   "execution_count": null,
   "metadata": {},
   "outputs": [],
   "source": []
  }
 ],
 "metadata": {
  "kernelspec": {
   "display_name": "Python 3",
   "language": "python",
   "name": "python3"
  },
  "language_info": {
   "codemirror_mode": {
    "name": "ipython",
    "version": 3
   },
   "file_extension": ".py",
   "mimetype": "text/x-python",
   "name": "python",
   "nbconvert_exporter": "python",
   "pygments_lexer": "ipython3",
   "version": "3.7.3"
  }
 },
 "nbformat": 4,
 "nbformat_minor": 2
}
