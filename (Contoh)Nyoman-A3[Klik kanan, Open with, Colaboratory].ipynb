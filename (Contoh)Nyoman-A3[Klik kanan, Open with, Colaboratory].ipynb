{
 "cells": [
  {
   "cell_type": "code",
   "execution_count": 0,
   "metadata": {
    "colab": {},
    "colab_type": "code",
    "id": "H4KgqHMdN3AO",
    "outputId": "c6e544ef-732a-4efb-fe4c-d9ee8bf2af2b"
   },
   "outputs": [
    {
     "name": "stdout",
     "output_type": "stream",
     "text": [
      "Input: 10\n",
      "Output: 1 1 2 3 5 8 13 21 34 55 "
     ]
    }
   ],
   "source": []
  },
  {
   "cell_type": "code",
   "execution_count": 0,
   "metadata": {
    "colab": {},
    "colab_type": "code",
    "id": "LK2U2IR8N3AV",
    "outputId": "0782b7b2-60ea-4e7b-cb53-db37e1043f1a"
   },
   "outputs": [
    {
     "name": "stdout",
     "output_type": "stream",
     "text": [
      "Input: 4\n",
      "Output: \n",
      "   *\n",
      "  **\n",
      " ***\n",
      "****\n",
      "\n",
      "****\n",
      "*** \n",
      "**  \n",
      "*   \n",
      "\n",
      "*   \n",
      "**  \n",
      "*** \n",
      "****\n",
      "\n",
      "****\n",
      " ***\n",
      "  **\n",
      "   *\n"
     ]
    }
   ],
   "source": []
  },
  {
   "cell_type": "code",
   "execution_count": 0,
   "metadata": {
    "colab": {},
    "colab_type": "code",
    "id": "AeEHwK83N3Ab"
   },
   "outputs": [],
   "source": []
  }
 ],
 "metadata": {
  "colab": {
   "name": "(Contoh)Nyoman-A3.ipynb",
   "provenance": [],
   "version": "0.3.2"
  },
  "kernelspec": {
   "display_name": "Python 3",
   "language": "python",
   "name": "python3"
  },
  "language_info": {
   "codemirror_mode": {
    "name": "ipython",
    "version": 3
   },
   "file_extension": ".py",
   "mimetype": "text/x-python",
   "name": "python",
   "nbconvert_exporter": "python",
   "pygments_lexer": "ipython3",
   "version": "3.7.3"
  }
 },
 "nbformat": 4,
 "nbformat_minor": 1
}
