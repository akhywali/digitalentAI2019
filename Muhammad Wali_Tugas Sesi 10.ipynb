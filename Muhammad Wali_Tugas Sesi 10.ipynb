{
 "cells": [
  {
   "cell_type": "code",
   "execution_count": 14,
   "metadata": {},
   "outputs": [
    {
     "name": "stdout",
     "output_type": "stream",
     "text": [
      "Masukan: 701408733\n",
      "Keluaran: 433494437\n"
     ]
    }
   ],
   "source": [
    "def fibonaci(a):\n",
    "    x1 = 1\n",
    "    x2 = 1\n",
    "    x3 = 0\n",
    "\n",
    "    if not(a <= 1):\n",
    "        while(True):\n",
    "            x3 = x1 + x2\n",
    "            if(x3 >= a):\n",
    "                return x2\n",
    "            x1 = x2\n",
    "            x2 = x3\n",
    "        \n",
    "a2 = int(input(\"Masukan: \"))\n",
    "print(\"Keluaran:\", (fibonaci(a2)))"
   ]
  },
  {
   "cell_type": "code",
   "execution_count": 3,
   "metadata": {},
   "outputs": [
    {
     "name": "stdout",
     "output_type": "stream",
     "text": [
      "Masukan: 11\n",
      "***********\n",
      "**       **\n",
      "* *     * *\n",
      "*  *   *  *\n",
      "*   * *   *\n",
      "*    *    *\n",
      "*   * *   *\n",
      "*  *   *  *\n",
      "* *     * *\n",
      "**       **\n",
      "***********\n"
     ]
    }
   ],
   "source": [
    "def bintang(x):\n",
    " for x1 in range(0, x):\n",
    "    for x2 in range(0, x):\n",
    "        if (x1 == x - 1) or (x1 == 0) or (x1 == x2) or (x1 == x - 1 - x2) or (x2 == 0) or (x2 == x - 1):\n",
    "            print(\"*\", end=\"\")\n",
    "        else:print(\" \", end=\"\")\n",
    "    print(\"\")\n",
    "x = int(input(\"Masukan: \"))\n",
    "bintang(x)"
   ]
  },
  {
   "cell_type": "code",
   "execution_count": null,
   "metadata": {},
   "outputs": [],
   "source": []
  }
 ],
 "metadata": {
  "kernelspec": {
   "display_name": "Python 3",
   "language": "python",
   "name": "python3"
  },
  "language_info": {
   "codemirror_mode": {
    "name": "ipython",
    "version": 3
   },
   "file_extension": ".py",
   "mimetype": "text/x-python",
   "name": "python",
   "nbconvert_exporter": "python",
   "pygments_lexer": "ipython3",
   "version": "3.7.3"
  }
 },
 "nbformat": 4,
 "nbformat_minor": 2
}
